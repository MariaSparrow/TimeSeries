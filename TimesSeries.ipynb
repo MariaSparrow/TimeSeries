{
  "nbformat": 4,
  "nbformat_minor": 0,
  "metadata": {
    "colab": {
      "provenance": [],
      "authorship_tag": "ABX9TyNb+FoKAP5yBBO/ztJK8Ljh"
    },
    "kernelspec": {
      "name": "python3",
      "display_name": "Python 3"
    },
    "language_info": {
      "name": "python"
    }
  },
  "cells": [
    {
      "cell_type": "markdown",
      "source": [
        "**Part 1.** This notebook contains method for exploatory data analysis (EDA)\n",
        "\n",
        "The aim of this notebook is understanding the data\n",
        "\n"
      ],
      "metadata": {
        "id": "BFE1DqivUurY"
      }
    },
    {
      "cell_type": "code",
      "source": [
        "# from google.colab import drive\n",
        "# import pandas as pd\n",
        "# drive.mount('/content/drive')"
      ],
      "metadata": {
        "id": "3EwNUVAMUvUp"
      },
      "execution_count": null,
      "outputs": []
    },
    {
      "cell_type": "code",
      "source": [
        "!pip install prophet -q"
      ],
      "metadata": {
        "id": "qIOWiPueg4rw"
      },
      "execution_count": null,
      "outputs": []
    },
    {
      "cell_type": "code",
      "source": [
        "import numpy as np \n",
        "import pandas as pd\n",
        "\n",
        "import datetime\n",
        "\n",
        "import matplotlib.pyplot as plt\n",
        "import seaborn as sns\n",
        "plt.style.use('fivethirtyeight')\n",
        "import warnings\n",
        "\n",
        "warnings.filterwarnings('ignore')\n",
        "%matplotlib inline"
      ],
      "metadata": {
        "id": "4kQ0GhQwusOq"
      },
      "execution_count": null,
      "outputs": []
    },
    {
      "cell_type": "code",
      "source": [
        "import statsmodels.api as sm\n",
        "# варианты:\n",
        "# data = sm.datasets.longley.load_pandas()\n",
        "\n",
        "data = sm.datasets.sunspots.load_pandas()\n",
        "# data = sm.datasets.nile.load_pandas()\n",
        "#data = sm.datasets.macrodata.load_pandas()\n",
        "# data = sm.datasets.interest_inflation.load_pandas()\n",
        "#data = sm.datasets.elnino.load_pandas()\n",
        "# data = sm.datasets.co2.load_pandas()"
      ],
      "metadata": {
        "id": "gihTJoMDusR-"
      },
      "execution_count": null,
      "outputs": []
    },
    {
      "cell_type": "code",
      "source": [
        "df = data.data\n",
        "df.tail()"
      ],
      "metadata": {
        "colab": {
          "base_uri": "https://localhost:8080/",
          "height": 206
        },
        "id": "825dpbba4EWp",
        "outputId": "666596be-e30a-4ed4-a07e-86dca190109b"
      },
      "execution_count": null,
      "outputs": [
        {
          "output_type": "execute_result",
          "data": {
            "text/plain": [
              "       YEAR  SUNACTIVITY\n",
              "304  2004.0         40.4\n",
              "305  2005.0         29.8\n",
              "306  2006.0         15.2\n",
              "307  2007.0          7.5\n",
              "308  2008.0          2.9"
            ],
            "text/html": [
              "\n",
              "  <div id=\"df-c8e0b3b7-548c-4db3-afa9-bcc197103e98\">\n",
              "    <div class=\"colab-df-container\">\n",
              "      <div>\n",
              "<style scoped>\n",
              "    .dataframe tbody tr th:only-of-type {\n",
              "        vertical-align: middle;\n",
              "    }\n",
              "\n",
              "    .dataframe tbody tr th {\n",
              "        vertical-align: top;\n",
              "    }\n",
              "\n",
              "    .dataframe thead th {\n",
              "        text-align: right;\n",
              "    }\n",
              "</style>\n",
              "<table border=\"1\" class=\"dataframe\">\n",
              "  <thead>\n",
              "    <tr style=\"text-align: right;\">\n",
              "      <th></th>\n",
              "      <th>YEAR</th>\n",
              "      <th>SUNACTIVITY</th>\n",
              "    </tr>\n",
              "  </thead>\n",
              "  <tbody>\n",
              "    <tr>\n",
              "      <th>304</th>\n",
              "      <td>2004.0</td>\n",
              "      <td>40.4</td>\n",
              "    </tr>\n",
              "    <tr>\n",
              "      <th>305</th>\n",
              "      <td>2005.0</td>\n",
              "      <td>29.8</td>\n",
              "    </tr>\n",
              "    <tr>\n",
              "      <th>306</th>\n",
              "      <td>2006.0</td>\n",
              "      <td>15.2</td>\n",
              "    </tr>\n",
              "    <tr>\n",
              "      <th>307</th>\n",
              "      <td>2007.0</td>\n",
              "      <td>7.5</td>\n",
              "    </tr>\n",
              "    <tr>\n",
              "      <th>308</th>\n",
              "      <td>2008.0</td>\n",
              "      <td>2.9</td>\n",
              "    </tr>\n",
              "  </tbody>\n",
              "</table>\n",
              "</div>\n",
              "      <button class=\"colab-df-convert\" onclick=\"convertToInteractive('df-c8e0b3b7-548c-4db3-afa9-bcc197103e98')\"\n",
              "              title=\"Convert this dataframe to an interactive table.\"\n",
              "              style=\"display:none;\">\n",
              "        \n",
              "  <svg xmlns=\"http://www.w3.org/2000/svg\" height=\"24px\"viewBox=\"0 0 24 24\"\n",
              "       width=\"24px\">\n",
              "    <path d=\"M0 0h24v24H0V0z\" fill=\"none\"/>\n",
              "    <path d=\"M18.56 5.44l.94 2.06.94-2.06 2.06-.94-2.06-.94-.94-2.06-.94 2.06-2.06.94zm-11 1L8.5 8.5l.94-2.06 2.06-.94-2.06-.94L8.5 2.5l-.94 2.06-2.06.94zm10 10l.94 2.06.94-2.06 2.06-.94-2.06-.94-.94-2.06-.94 2.06-2.06.94z\"/><path d=\"M17.41 7.96l-1.37-1.37c-.4-.4-.92-.59-1.43-.59-.52 0-1.04.2-1.43.59L10.3 9.45l-7.72 7.72c-.78.78-.78 2.05 0 2.83L4 21.41c.39.39.9.59 1.41.59.51 0 1.02-.2 1.41-.59l7.78-7.78 2.81-2.81c.8-.78.8-2.07 0-2.86zM5.41 20L4 18.59l7.72-7.72 1.47 1.35L5.41 20z\"/>\n",
              "  </svg>\n",
              "      </button>\n",
              "      \n",
              "  <style>\n",
              "    .colab-df-container {\n",
              "      display:flex;\n",
              "      flex-wrap:wrap;\n",
              "      gap: 12px;\n",
              "    }\n",
              "\n",
              "    .colab-df-convert {\n",
              "      background-color: #E8F0FE;\n",
              "      border: none;\n",
              "      border-radius: 50%;\n",
              "      cursor: pointer;\n",
              "      display: none;\n",
              "      fill: #1967D2;\n",
              "      height: 32px;\n",
              "      padding: 0 0 0 0;\n",
              "      width: 32px;\n",
              "    }\n",
              "\n",
              "    .colab-df-convert:hover {\n",
              "      background-color: #E2EBFA;\n",
              "      box-shadow: 0px 1px 2px rgba(60, 64, 67, 0.3), 0px 1px 3px 1px rgba(60, 64, 67, 0.15);\n",
              "      fill: #174EA6;\n",
              "    }\n",
              "\n",
              "    [theme=dark] .colab-df-convert {\n",
              "      background-color: #3B4455;\n",
              "      fill: #D2E3FC;\n",
              "    }\n",
              "\n",
              "    [theme=dark] .colab-df-convert:hover {\n",
              "      background-color: #434B5C;\n",
              "      box-shadow: 0px 1px 3px 1px rgba(0, 0, 0, 0.15);\n",
              "      filter: drop-shadow(0px 1px 2px rgba(0, 0, 0, 0.3));\n",
              "      fill: #FFFFFF;\n",
              "    }\n",
              "  </style>\n",
              "\n",
              "      <script>\n",
              "        const buttonEl =\n",
              "          document.querySelector('#df-c8e0b3b7-548c-4db3-afa9-bcc197103e98 button.colab-df-convert');\n",
              "        buttonEl.style.display =\n",
              "          google.colab.kernel.accessAllowed ? 'block' : 'none';\n",
              "\n",
              "        async function convertToInteractive(key) {\n",
              "          const element = document.querySelector('#df-c8e0b3b7-548c-4db3-afa9-bcc197103e98');\n",
              "          const dataTable =\n",
              "            await google.colab.kernel.invokeFunction('convertToInteractive',\n",
              "                                                     [key], {});\n",
              "          if (!dataTable) return;\n",
              "\n",
              "          const docLinkHtml = 'Like what you see? Visit the ' +\n",
              "            '<a target=\"_blank\" href=https://colab.research.google.com/notebooks/data_table.ipynb>data table notebook</a>'\n",
              "            + ' to learn more about interactive tables.';\n",
              "          element.innerHTML = '';\n",
              "          dataTable['output_type'] = 'display_data';\n",
              "          await google.colab.output.renderOutput(dataTable, element);\n",
              "          const docLink = document.createElement('div');\n",
              "          docLink.innerHTML = docLinkHtml;\n",
              "          element.appendChild(docLink);\n",
              "        }\n",
              "      </script>\n",
              "    </div>\n",
              "  </div>\n",
              "  "
            ]
          },
          "metadata": {},
          "execution_count": 56
        }
      ]
    },
    {
      "cell_type": "code",
      "source": [
        "df['YEAR'] = df['YEAR'].astype('int')\n",
        "df['DATE'] = df['YEAR'].map(lambda x: datetime.date(x, 1, 1))\n",
        "df.tail()"
      ],
      "metadata": {
        "colab": {
          "base_uri": "https://localhost:8080/",
          "height": 206
        },
        "id": "TrcuCeEO34S2",
        "outputId": "b6fb4e72-5b36-4c03-c05c-ceb382c7ccf6"
      },
      "execution_count": null,
      "outputs": [
        {
          "output_type": "execute_result",
          "data": {
            "text/plain": [
              "     YEAR  SUNACTIVITY        DATE\n",
              "304  2004         40.4  2004-01-01\n",
              "305  2005         29.8  2005-01-01\n",
              "306  2006         15.2  2006-01-01\n",
              "307  2007          7.5  2007-01-01\n",
              "308  2008          2.9  2008-01-01"
            ],
            "text/html": [
              "\n",
              "  <div id=\"df-15ecb1b2-f073-4e9c-9274-e498c71f80ba\">\n",
              "    <div class=\"colab-df-container\">\n",
              "      <div>\n",
              "<style scoped>\n",
              "    .dataframe tbody tr th:only-of-type {\n",
              "        vertical-align: middle;\n",
              "    }\n",
              "\n",
              "    .dataframe tbody tr th {\n",
              "        vertical-align: top;\n",
              "    }\n",
              "\n",
              "    .dataframe thead th {\n",
              "        text-align: right;\n",
              "    }\n",
              "</style>\n",
              "<table border=\"1\" class=\"dataframe\">\n",
              "  <thead>\n",
              "    <tr style=\"text-align: right;\">\n",
              "      <th></th>\n",
              "      <th>YEAR</th>\n",
              "      <th>SUNACTIVITY</th>\n",
              "      <th>DATE</th>\n",
              "    </tr>\n",
              "  </thead>\n",
              "  <tbody>\n",
              "    <tr>\n",
              "      <th>304</th>\n",
              "      <td>2004</td>\n",
              "      <td>40.4</td>\n",
              "      <td>2004-01-01</td>\n",
              "    </tr>\n",
              "    <tr>\n",
              "      <th>305</th>\n",
              "      <td>2005</td>\n",
              "      <td>29.8</td>\n",
              "      <td>2005-01-01</td>\n",
              "    </tr>\n",
              "    <tr>\n",
              "      <th>306</th>\n",
              "      <td>2006</td>\n",
              "      <td>15.2</td>\n",
              "      <td>2006-01-01</td>\n",
              "    </tr>\n",
              "    <tr>\n",
              "      <th>307</th>\n",
              "      <td>2007</td>\n",
              "      <td>7.5</td>\n",
              "      <td>2007-01-01</td>\n",
              "    </tr>\n",
              "    <tr>\n",
              "      <th>308</th>\n",
              "      <td>2008</td>\n",
              "      <td>2.9</td>\n",
              "      <td>2008-01-01</td>\n",
              "    </tr>\n",
              "  </tbody>\n",
              "</table>\n",
              "</div>\n",
              "      <button class=\"colab-df-convert\" onclick=\"convertToInteractive('df-15ecb1b2-f073-4e9c-9274-e498c71f80ba')\"\n",
              "              title=\"Convert this dataframe to an interactive table.\"\n",
              "              style=\"display:none;\">\n",
              "        \n",
              "  <svg xmlns=\"http://www.w3.org/2000/svg\" height=\"24px\"viewBox=\"0 0 24 24\"\n",
              "       width=\"24px\">\n",
              "    <path d=\"M0 0h24v24H0V0z\" fill=\"none\"/>\n",
              "    <path d=\"M18.56 5.44l.94 2.06.94-2.06 2.06-.94-2.06-.94-.94-2.06-.94 2.06-2.06.94zm-11 1L8.5 8.5l.94-2.06 2.06-.94-2.06-.94L8.5 2.5l-.94 2.06-2.06.94zm10 10l.94 2.06.94-2.06 2.06-.94-2.06-.94-.94-2.06-.94 2.06-2.06.94z\"/><path d=\"M17.41 7.96l-1.37-1.37c-.4-.4-.92-.59-1.43-.59-.52 0-1.04.2-1.43.59L10.3 9.45l-7.72 7.72c-.78.78-.78 2.05 0 2.83L4 21.41c.39.39.9.59 1.41.59.51 0 1.02-.2 1.41-.59l7.78-7.78 2.81-2.81c.8-.78.8-2.07 0-2.86zM5.41 20L4 18.59l7.72-7.72 1.47 1.35L5.41 20z\"/>\n",
              "  </svg>\n",
              "      </button>\n",
              "      \n",
              "  <style>\n",
              "    .colab-df-container {\n",
              "      display:flex;\n",
              "      flex-wrap:wrap;\n",
              "      gap: 12px;\n",
              "    }\n",
              "\n",
              "    .colab-df-convert {\n",
              "      background-color: #E8F0FE;\n",
              "      border: none;\n",
              "      border-radius: 50%;\n",
              "      cursor: pointer;\n",
              "      display: none;\n",
              "      fill: #1967D2;\n",
              "      height: 32px;\n",
              "      padding: 0 0 0 0;\n",
              "      width: 32px;\n",
              "    }\n",
              "\n",
              "    .colab-df-convert:hover {\n",
              "      background-color: #E2EBFA;\n",
              "      box-shadow: 0px 1px 2px rgba(60, 64, 67, 0.3), 0px 1px 3px 1px rgba(60, 64, 67, 0.15);\n",
              "      fill: #174EA6;\n",
              "    }\n",
              "\n",
              "    [theme=dark] .colab-df-convert {\n",
              "      background-color: #3B4455;\n",
              "      fill: #D2E3FC;\n",
              "    }\n",
              "\n",
              "    [theme=dark] .colab-df-convert:hover {\n",
              "      background-color: #434B5C;\n",
              "      box-shadow: 0px 1px 3px 1px rgba(0, 0, 0, 0.15);\n",
              "      filter: drop-shadow(0px 1px 2px rgba(0, 0, 0, 0.3));\n",
              "      fill: #FFFFFF;\n",
              "    }\n",
              "  </style>\n",
              "\n",
              "      <script>\n",
              "        const buttonEl =\n",
              "          document.querySelector('#df-15ecb1b2-f073-4e9c-9274-e498c71f80ba button.colab-df-convert');\n",
              "        buttonEl.style.display =\n",
              "          google.colab.kernel.accessAllowed ? 'block' : 'none';\n",
              "\n",
              "        async function convertToInteractive(key) {\n",
              "          const element = document.querySelector('#df-15ecb1b2-f073-4e9c-9274-e498c71f80ba');\n",
              "          const dataTable =\n",
              "            await google.colab.kernel.invokeFunction('convertToInteractive',\n",
              "                                                     [key], {});\n",
              "          if (!dataTable) return;\n",
              "\n",
              "          const docLinkHtml = 'Like what you see? Visit the ' +\n",
              "            '<a target=\"_blank\" href=https://colab.research.google.com/notebooks/data_table.ipynb>data table notebook</a>'\n",
              "            + ' to learn more about interactive tables.';\n",
              "          element.innerHTML = '';\n",
              "          dataTable['output_type'] = 'display_data';\n",
              "          await google.colab.output.renderOutput(dataTable, element);\n",
              "          const docLink = document.createElement('div');\n",
              "          docLink.innerHTML = docLinkHtml;\n",
              "          element.appendChild(docLink);\n",
              "        }\n",
              "      </script>\n",
              "    </div>\n",
              "  </div>\n",
              "  "
            ]
          },
          "metadata": {},
          "execution_count": 57
        }
      ]
    },
    {
      "cell_type": "code",
      "source": [
        "import plotly.express as px\n",
        "fig = px.line(df, x=\"YEAR\", y=\"SUNACTIVITY\", title='SUNACTIVITY')\n",
        "fig.show()"
      ],
      "metadata": {
        "colab": {
          "base_uri": "https://localhost:8080/",
          "height": 542
        },
        "id": "fLRP0VcY6CvV",
        "outputId": "d0801bb7-61a6-431d-8943-0b492d88f34b"
      },
      "execution_count": null,
      "outputs": [
        {
          "output_type": "display_data",
          "data": {
            "text/html": [
              "<html>\n",
              "<head><meta charset=\"utf-8\" /></head>\n",
              "<body>\n",
              "    <div>            <script src=\"https://cdnjs.cloudflare.com/ajax/libs/mathjax/2.7.5/MathJax.js?config=TeX-AMS-MML_SVG\"></script><script type=\"text/javascript\">if (window.MathJax) {MathJax.Hub.Config({SVG: {font: \"STIX-Web\"}});}</script>                <script type=\"text/javascript\">window.PlotlyConfig = {MathJaxConfig: 'local'};</script>\n",
              "        <script src=\"https://cdn.plot.ly/plotly-2.8.3.min.js\"></script>                <div id=\"c3765670-ea1c-47bd-a938-61274879c4cc\" class=\"plotly-graph-div\" style=\"height:525px; width:100%;\"></div>            <script type=\"text/javascript\">                                    window.PLOTLYENV=window.PLOTLYENV || {};                                    if (document.getElementById(\"c3765670-ea1c-47bd-a938-61274879c4cc\")) {                    Plotly.newPlot(                        \"c3765670-ea1c-47bd-a938-61274879c4cc\",                        [{\"hovertemplate\":\"YEAR=%{x}<br>SUNACTIVITY=%{y}<extra></extra>\",\"legendgroup\":\"\",\"line\":{\"color\":\"#636efa\",\"dash\":\"solid\"},\"marker\":{\"symbol\":\"circle\"},\"mode\":\"lines\",\"name\":\"\",\"orientation\":\"v\",\"showlegend\":false,\"x\":[1700,1701,1702,1703,1704,1705,1706,1707,1708,1709,1710,1711,1712,1713,1714,1715,1716,1717,1718,1719,1720,1721,1722,1723,1724,1725,1726,1727,1728,1729,1730,1731,1732,1733,1734,1735,1736,1737,1738,1739,1740,1741,1742,1743,1744,1745,1746,1747,1748,1749,1750,1751,1752,1753,1754,1755,1756,1757,1758,1759,1760,1761,1762,1763,1764,1765,1766,1767,1768,1769,1770,1771,1772,1773,1774,1775,1776,1777,1778,1779,1780,1781,1782,1783,1784,1785,1786,1787,1788,1789,1790,1791,1792,1793,1794,1795,1796,1797,1798,1799,1800,1801,1802,1803,1804,1805,1806,1807,1808,1809,1810,1811,1812,1813,1814,1815,1816,1817,1818,1819,1820,1821,1822,1823,1824,1825,1826,1827,1828,1829,1830,1831,1832,1833,1834,1835,1836,1837,1838,1839,1840,1841,1842,1843,1844,1845,1846,1847,1848,1849,1850,1851,1852,1853,1854,1855,1856,1857,1858,1859,1860,1861,1862,1863,1864,1865,1866,1867,1868,1869,1870,1871,1872,1873,1874,1875,1876,1877,1878,1879,1880,1881,1882,1883,1884,1885,1886,1887,1888,1889,1890,1891,1892,1893,1894,1895,1896,1897,1898,1899,1900,1901,1902,1903,1904,1905,1906,1907,1908,1909,1910,1911,1912,1913,1914,1915,1916,1917,1918,1919,1920,1921,1922,1923,1924,1925,1926,1927,1928,1929,1930,1931,1932,1933,1934,1935,1936,1937,1938,1939,1940,1941,1942,1943,1944,1945,1946,1947,1948,1949,1950,1951,1952,1953,1954,1955,1956,1957,1958,1959,1960,1961,1962,1963,1964,1965,1966,1967,1968,1969,1970,1971,1972,1973,1974,1975,1976,1977,1978,1979,1980,1981,1982,1983,1984,1985,1986,1987,1988,1989,1990,1991,1992,1993,1994,1995,1996,1997,1998,1999,2000,2001,2002,2003,2004,2005,2006,2007,2008],\"xaxis\":\"x\",\"y\":[5.0,11.0,16.0,23.0,36.0,58.0,29.0,20.0,10.0,8.0,3.0,0.0,0.0,2.0,11.0,27.0,47.0,63.0,60.0,39.0,28.0,26.0,22.0,11.0,21.0,40.0,78.0,122.0,103.0,73.0,47.0,35.0,11.0,5.0,16.0,34.0,70.0,81.0,111.0,101.0,73.0,40.0,20.0,16.0,5.0,11.0,22.0,40.0,60.0,80.9,83.4,47.7,47.8,30.7,12.2,9.6,10.2,32.4,47.6,54.0,62.9,85.9,61.2,45.1,36.4,20.9,11.4,37.8,69.8,106.1,100.8,81.6,66.5,34.8,30.6,7.0,19.8,92.5,154.4,125.9,84.8,68.1,38.5,22.8,10.2,24.1,82.9,132.0,130.9,118.1,89.9,66.6,60.0,46.9,41.0,21.3,16.0,6.4,4.1,6.8,14.5,34.0,45.0,43.1,47.5,42.2,28.1,10.1,8.1,2.5,0.0,1.4,5.0,12.2,13.9,35.4,45.8,41.1,30.1,23.9,15.6,6.6,4.0,1.8,8.5,16.6,36.3,49.6,64.2,67.0,70.9,47.8,27.5,8.5,13.2,56.9,121.5,138.3,103.2,85.7,64.6,36.7,24.2,10.7,15.0,40.1,61.5,98.5,124.7,96.3,66.6,64.5,54.1,39.0,20.6,6.7,4.3,22.7,54.8,93.8,95.8,77.2,59.1,44.0,47.0,30.5,16.3,7.3,37.6,74.0,139.0,111.2,101.6,66.2,44.7,17.0,11.3,12.4,3.4,6.0,32.3,54.3,59.7,63.7,63.5,52.2,25.4,13.1,6.8,6.3,7.1,35.6,73.0,85.1,78.0,64.0,41.8,26.2,26.7,12.1,9.5,2.7,5.0,24.4,42.0,63.5,53.8,62.0,48.5,43.9,18.6,5.7,3.6,1.4,9.6,47.4,57.1,103.9,80.6,63.6,37.6,26.1,14.2,5.8,16.7,44.3,63.9,69.0,77.8,64.9,35.7,21.2,11.1,5.7,8.7,36.1,79.7,114.4,109.6,88.8,67.8,47.5,30.6,16.3,9.6,33.2,92.6,151.6,136.3,134.7,83.9,69.4,31.5,13.9,4.4,38.0,141.7,190.2,184.8,159.0,112.3,53.9,37.6,27.9,10.2,15.1,47.0,93.8,105.9,105.5,104.5,66.6,68.9,38.0,34.5,15.5,12.6,27.5,92.5,155.4,154.6,140.4,115.9,66.6,45.9,17.9,13.4,29.4,100.2,157.6,142.6,145.7,94.3,54.6,29.9,17.5,8.6,21.5,64.3,93.3,119.6,111.0,104.0,63.7,40.4,29.8,15.2,7.5,2.9],\"yaxis\":\"y\",\"type\":\"scatter\"}],                        {\"template\":{\"data\":{\"bar\":[{\"error_x\":{\"color\":\"#2a3f5f\"},\"error_y\":{\"color\":\"#2a3f5f\"},\"marker\":{\"line\":{\"color\":\"#E5ECF6\",\"width\":0.5},\"pattern\":{\"fillmode\":\"overlay\",\"size\":10,\"solidity\":0.2}},\"type\":\"bar\"}],\"barpolar\":[{\"marker\":{\"line\":{\"color\":\"#E5ECF6\",\"width\":0.5},\"pattern\":{\"fillmode\":\"overlay\",\"size\":10,\"solidity\":0.2}},\"type\":\"barpolar\"}],\"carpet\":[{\"aaxis\":{\"endlinecolor\":\"#2a3f5f\",\"gridcolor\":\"white\",\"linecolor\":\"white\",\"minorgridcolor\":\"white\",\"startlinecolor\":\"#2a3f5f\"},\"baxis\":{\"endlinecolor\":\"#2a3f5f\",\"gridcolor\":\"white\",\"linecolor\":\"white\",\"minorgridcolor\":\"white\",\"startlinecolor\":\"#2a3f5f\"},\"type\":\"carpet\"}],\"choropleth\":[{\"colorbar\":{\"outlinewidth\":0,\"ticks\":\"\"},\"type\":\"choropleth\"}],\"contour\":[{\"colorbar\":{\"outlinewidth\":0,\"ticks\":\"\"},\"colorscale\":[[0.0,\"#0d0887\"],[0.1111111111111111,\"#46039f\"],[0.2222222222222222,\"#7201a8\"],[0.3333333333333333,\"#9c179e\"],[0.4444444444444444,\"#bd3786\"],[0.5555555555555556,\"#d8576b\"],[0.6666666666666666,\"#ed7953\"],[0.7777777777777778,\"#fb9f3a\"],[0.8888888888888888,\"#fdca26\"],[1.0,\"#f0f921\"]],\"type\":\"contour\"}],\"contourcarpet\":[{\"colorbar\":{\"outlinewidth\":0,\"ticks\":\"\"},\"type\":\"contourcarpet\"}],\"heatmap\":[{\"colorbar\":{\"outlinewidth\":0,\"ticks\":\"\"},\"colorscale\":[[0.0,\"#0d0887\"],[0.1111111111111111,\"#46039f\"],[0.2222222222222222,\"#7201a8\"],[0.3333333333333333,\"#9c179e\"],[0.4444444444444444,\"#bd3786\"],[0.5555555555555556,\"#d8576b\"],[0.6666666666666666,\"#ed7953\"],[0.7777777777777778,\"#fb9f3a\"],[0.8888888888888888,\"#fdca26\"],[1.0,\"#f0f921\"]],\"type\":\"heatmap\"}],\"heatmapgl\":[{\"colorbar\":{\"outlinewidth\":0,\"ticks\":\"\"},\"colorscale\":[[0.0,\"#0d0887\"],[0.1111111111111111,\"#46039f\"],[0.2222222222222222,\"#7201a8\"],[0.3333333333333333,\"#9c179e\"],[0.4444444444444444,\"#bd3786\"],[0.5555555555555556,\"#d8576b\"],[0.6666666666666666,\"#ed7953\"],[0.7777777777777778,\"#fb9f3a\"],[0.8888888888888888,\"#fdca26\"],[1.0,\"#f0f921\"]],\"type\":\"heatmapgl\"}],\"histogram\":[{\"marker\":{\"pattern\":{\"fillmode\":\"overlay\",\"size\":10,\"solidity\":0.2}},\"type\":\"histogram\"}],\"histogram2d\":[{\"colorbar\":{\"outlinewidth\":0,\"ticks\":\"\"},\"colorscale\":[[0.0,\"#0d0887\"],[0.1111111111111111,\"#46039f\"],[0.2222222222222222,\"#7201a8\"],[0.3333333333333333,\"#9c179e\"],[0.4444444444444444,\"#bd3786\"],[0.5555555555555556,\"#d8576b\"],[0.6666666666666666,\"#ed7953\"],[0.7777777777777778,\"#fb9f3a\"],[0.8888888888888888,\"#fdca26\"],[1.0,\"#f0f921\"]],\"type\":\"histogram2d\"}],\"histogram2dcontour\":[{\"colorbar\":{\"outlinewidth\":0,\"ticks\":\"\"},\"colorscale\":[[0.0,\"#0d0887\"],[0.1111111111111111,\"#46039f\"],[0.2222222222222222,\"#7201a8\"],[0.3333333333333333,\"#9c179e\"],[0.4444444444444444,\"#bd3786\"],[0.5555555555555556,\"#d8576b\"],[0.6666666666666666,\"#ed7953\"],[0.7777777777777778,\"#fb9f3a\"],[0.8888888888888888,\"#fdca26\"],[1.0,\"#f0f921\"]],\"type\":\"histogram2dcontour\"}],\"mesh3d\":[{\"colorbar\":{\"outlinewidth\":0,\"ticks\":\"\"},\"type\":\"mesh3d\"}],\"parcoords\":[{\"line\":{\"colorbar\":{\"outlinewidth\":0,\"ticks\":\"\"}},\"type\":\"parcoords\"}],\"pie\":[{\"automargin\":true,\"type\":\"pie\"}],\"scatter\":[{\"marker\":{\"colorbar\":{\"outlinewidth\":0,\"ticks\":\"\"}},\"type\":\"scatter\"}],\"scatter3d\":[{\"line\":{\"colorbar\":{\"outlinewidth\":0,\"ticks\":\"\"}},\"marker\":{\"colorbar\":{\"outlinewidth\":0,\"ticks\":\"\"}},\"type\":\"scatter3d\"}],\"scattercarpet\":[{\"marker\":{\"colorbar\":{\"outlinewidth\":0,\"ticks\":\"\"}},\"type\":\"scattercarpet\"}],\"scattergeo\":[{\"marker\":{\"colorbar\":{\"outlinewidth\":0,\"ticks\":\"\"}},\"type\":\"scattergeo\"}],\"scattergl\":[{\"marker\":{\"colorbar\":{\"outlinewidth\":0,\"ticks\":\"\"}},\"type\":\"scattergl\"}],\"scattermapbox\":[{\"marker\":{\"colorbar\":{\"outlinewidth\":0,\"ticks\":\"\"}},\"type\":\"scattermapbox\"}],\"scatterpolar\":[{\"marker\":{\"colorbar\":{\"outlinewidth\":0,\"ticks\":\"\"}},\"type\":\"scatterpolar\"}],\"scatterpolargl\":[{\"marker\":{\"colorbar\":{\"outlinewidth\":0,\"ticks\":\"\"}},\"type\":\"scatterpolargl\"}],\"scatterternary\":[{\"marker\":{\"colorbar\":{\"outlinewidth\":0,\"ticks\":\"\"}},\"type\":\"scatterternary\"}],\"surface\":[{\"colorbar\":{\"outlinewidth\":0,\"ticks\":\"\"},\"colorscale\":[[0.0,\"#0d0887\"],[0.1111111111111111,\"#46039f\"],[0.2222222222222222,\"#7201a8\"],[0.3333333333333333,\"#9c179e\"],[0.4444444444444444,\"#bd3786\"],[0.5555555555555556,\"#d8576b\"],[0.6666666666666666,\"#ed7953\"],[0.7777777777777778,\"#fb9f3a\"],[0.8888888888888888,\"#fdca26\"],[1.0,\"#f0f921\"]],\"type\":\"surface\"}],\"table\":[{\"cells\":{\"fill\":{\"color\":\"#EBF0F8\"},\"line\":{\"color\":\"white\"}},\"header\":{\"fill\":{\"color\":\"#C8D4E3\"},\"line\":{\"color\":\"white\"}},\"type\":\"table\"}]},\"layout\":{\"annotationdefaults\":{\"arrowcolor\":\"#2a3f5f\",\"arrowhead\":0,\"arrowwidth\":1},\"autotypenumbers\":\"strict\",\"coloraxis\":{\"colorbar\":{\"outlinewidth\":0,\"ticks\":\"\"}},\"colorscale\":{\"diverging\":[[0,\"#8e0152\"],[0.1,\"#c51b7d\"],[0.2,\"#de77ae\"],[0.3,\"#f1b6da\"],[0.4,\"#fde0ef\"],[0.5,\"#f7f7f7\"],[0.6,\"#e6f5d0\"],[0.7,\"#b8e186\"],[0.8,\"#7fbc41\"],[0.9,\"#4d9221\"],[1,\"#276419\"]],\"sequential\":[[0.0,\"#0d0887\"],[0.1111111111111111,\"#46039f\"],[0.2222222222222222,\"#7201a8\"],[0.3333333333333333,\"#9c179e\"],[0.4444444444444444,\"#bd3786\"],[0.5555555555555556,\"#d8576b\"],[0.6666666666666666,\"#ed7953\"],[0.7777777777777778,\"#fb9f3a\"],[0.8888888888888888,\"#fdca26\"],[1.0,\"#f0f921\"]],\"sequentialminus\":[[0.0,\"#0d0887\"],[0.1111111111111111,\"#46039f\"],[0.2222222222222222,\"#7201a8\"],[0.3333333333333333,\"#9c179e\"],[0.4444444444444444,\"#bd3786\"],[0.5555555555555556,\"#d8576b\"],[0.6666666666666666,\"#ed7953\"],[0.7777777777777778,\"#fb9f3a\"],[0.8888888888888888,\"#fdca26\"],[1.0,\"#f0f921\"]]},\"colorway\":[\"#636efa\",\"#EF553B\",\"#00cc96\",\"#ab63fa\",\"#FFA15A\",\"#19d3f3\",\"#FF6692\",\"#B6E880\",\"#FF97FF\",\"#FECB52\"],\"font\":{\"color\":\"#2a3f5f\"},\"geo\":{\"bgcolor\":\"white\",\"lakecolor\":\"white\",\"landcolor\":\"#E5ECF6\",\"showlakes\":true,\"showland\":true,\"subunitcolor\":\"white\"},\"hoverlabel\":{\"align\":\"left\"},\"hovermode\":\"closest\",\"mapbox\":{\"style\":\"light\"},\"paper_bgcolor\":\"white\",\"plot_bgcolor\":\"#E5ECF6\",\"polar\":{\"angularaxis\":{\"gridcolor\":\"white\",\"linecolor\":\"white\",\"ticks\":\"\"},\"bgcolor\":\"#E5ECF6\",\"radialaxis\":{\"gridcolor\":\"white\",\"linecolor\":\"white\",\"ticks\":\"\"}},\"scene\":{\"xaxis\":{\"backgroundcolor\":\"#E5ECF6\",\"gridcolor\":\"white\",\"gridwidth\":2,\"linecolor\":\"white\",\"showbackground\":true,\"ticks\":\"\",\"zerolinecolor\":\"white\"},\"yaxis\":{\"backgroundcolor\":\"#E5ECF6\",\"gridcolor\":\"white\",\"gridwidth\":2,\"linecolor\":\"white\",\"showbackground\":true,\"ticks\":\"\",\"zerolinecolor\":\"white\"},\"zaxis\":{\"backgroundcolor\":\"#E5ECF6\",\"gridcolor\":\"white\",\"gridwidth\":2,\"linecolor\":\"white\",\"showbackground\":true,\"ticks\":\"\",\"zerolinecolor\":\"white\"}},\"shapedefaults\":{\"line\":{\"color\":\"#2a3f5f\"}},\"ternary\":{\"aaxis\":{\"gridcolor\":\"white\",\"linecolor\":\"white\",\"ticks\":\"\"},\"baxis\":{\"gridcolor\":\"white\",\"linecolor\":\"white\",\"ticks\":\"\"},\"bgcolor\":\"#E5ECF6\",\"caxis\":{\"gridcolor\":\"white\",\"linecolor\":\"white\",\"ticks\":\"\"}},\"title\":{\"x\":0.05},\"xaxis\":{\"automargin\":true,\"gridcolor\":\"white\",\"linecolor\":\"white\",\"ticks\":\"\",\"title\":{\"standoff\":15},\"zerolinecolor\":\"white\",\"zerolinewidth\":2},\"yaxis\":{\"automargin\":true,\"gridcolor\":\"white\",\"linecolor\":\"white\",\"ticks\":\"\",\"title\":{\"standoff\":15},\"zerolinecolor\":\"white\",\"zerolinewidth\":2}}},\"xaxis\":{\"anchor\":\"y\",\"domain\":[0.0,1.0],\"title\":{\"text\":\"YEAR\"}},\"yaxis\":{\"anchor\":\"x\",\"domain\":[0.0,1.0],\"title\":{\"text\":\"SUNACTIVITY\"}},\"legend\":{\"tracegroupgap\":0},\"title\":{\"text\":\"SUNACTIVITY\"}},                        {\"responsive\": true}                    ).then(function(){\n",
              "                            \n",
              "var gd = document.getElementById('c3765670-ea1c-47bd-a938-61274879c4cc');\n",
              "var x = new MutationObserver(function (mutations, observer) {{\n",
              "        var display = window.getComputedStyle(gd).display;\n",
              "        if (!display || display === 'none') {{\n",
              "            console.log([gd, 'removed!']);\n",
              "            Plotly.purge(gd);\n",
              "            observer.disconnect();\n",
              "        }}\n",
              "}});\n",
              "\n",
              "// Listen for the removal of the full notebook cells\n",
              "var notebookContainer = gd.closest('#notebook-container');\n",
              "if (notebookContainer) {{\n",
              "    x.observe(notebookContainer, {childList: true});\n",
              "}}\n",
              "\n",
              "// Listen for the clearing of the current output cell\n",
              "var outputEl = gd.closest('.output');\n",
              "if (outputEl) {{\n",
              "    x.observe(outputEl, {childList: true});\n",
              "}}\n",
              "\n",
              "                        })                };                            </script>        </div>\n",
              "</body>\n",
              "</html>"
            ]
          },
          "metadata": {}
        }
      ]
    },
    {
      "cell_type": "code",
      "source": [
        "df = df[['DATE', 'SUNACTIVITY']]\n",
        "df.columns = ['ds', 'y']"
      ],
      "metadata": {
        "id": "Df7xbtBk5-6A"
      },
      "execution_count": null,
      "outputs": []
    },
    {
      "cell_type": "code",
      "source": [
        "def get_stat(df, df_name):\n",
        "  print(f'__статистика по  датафрейму {df_name}___')\n",
        "  print('shape = ', df.shape)\n",
        "  print('min_dt = ', df['ds'].min())\n",
        "  print('max_dt = ', df['ds'].max())\n",
        "  print('columns = ', list(df.columns))"
      ],
      "metadata": {
        "id": "H497Wzsn3yk8"
      },
      "execution_count": null,
      "outputs": []
    },
    {
      "cell_type": "code",
      "source": [
        "get_stat(df, 'df')"
      ],
      "metadata": {
        "colab": {
          "base_uri": "https://localhost:8080/"
        },
        "id": "bDOz1ezu50EC",
        "outputId": "2a35b247-b5a7-4a17-9bbb-b4352efa9374"
      },
      "execution_count": null,
      "outputs": [
        {
          "output_type": "stream",
          "name": "stdout",
          "text": [
            "__статистика по  датафрейму df___\n",
            "shape =  (309, 2)\n",
            "min_dt =  1700-01-01\n",
            "max_dt =  2008-01-01\n",
            "columns =  ['ds', 'y']\n"
          ]
        }
      ]
    },
    {
      "cell_type": "code",
      "source": [
        "# разделяем на тренировочную и тестовую выборку, в тестовой выборке будет 30 последних наблюдений по времени\n",
        "# так как prophet не может работать с данными за большое количество лет, мы снизу исключаем первые 50 лет. \n",
        "prophet_train_df = df[50:-30]\n",
        "prophet_test_df = df[-30:]\n",
        "# посмотрим на статистику по датасетам:\n",
        "get_stat(prophet_train_df, 'prophet_train_df')\n",
        "get_stat(prophet_train_df, 'prophet_train_df')"
      ],
      "metadata": {
        "colab": {
          "base_uri": "https://localhost:8080/"
        },
        "id": "u46QPZhGusiG",
        "outputId": "5add2ea7-e520-4de7-9009-eea71e685e3a"
      },
      "execution_count": null,
      "outputs": [
        {
          "output_type": "stream",
          "name": "stdout",
          "text": [
            "__статистика по  датафрейму prophet_train_df___\n",
            "shape =  (229, 2)\n",
            "min_dt =  1750-01-01\n",
            "max_dt =  1978-01-01\n",
            "columns =  ['ds', 'y']\n",
            "__статистика по  датафрейму prophet_train_df___\n",
            "shape =  (229, 2)\n",
            "min_dt =  1750-01-01\n",
            "max_dt =  1978-01-01\n",
            "columns =  ['ds', 'y']\n"
          ]
        }
      ]
    },
    {
      "cell_type": "code",
      "source": [
        "# создаем модель prophet\n",
        "from prophet import Prophet\n",
        "model_prophet = Prophet(seasonality_mode='additive',\n",
        "                  yearly_seasonality = False,\n",
        "                  weekly_seasonality = False,\n",
        "                  daily_seasonality = False,\n",
        "                  ).add_seasonality(name='custom_seasonality',\n",
        "                                    period=100,\n",
        "                                    fourier_order = 100)\n",
        "model_prophet.fit(prophet_train_df)"
      ],
      "metadata": {
        "colab": {
          "base_uri": "https://localhost:8080/"
        },
        "id": "JYYV4SSmu_21",
        "outputId": "58b7b365-353c-42e0-ad45-bd229ff265d5"
      },
      "execution_count": null,
      "outputs": [
        {
          "output_type": "stream",
          "name": "stderr",
          "text": [
            "DEBUG:cmdstanpy:input tempfile: /tmp/tmpmcwhbn54/rgtmuhk1.json\n",
            "DEBUG:cmdstanpy:input tempfile: /tmp/tmpmcwhbn54/1s5p_lwc.json\n",
            "DEBUG:cmdstanpy:idx 0\n",
            "DEBUG:cmdstanpy:running CmdStan, num_threads: None\n",
            "DEBUG:cmdstanpy:CmdStan args: ['/usr/local/lib/python3.8/dist-packages/prophet/stan_model/prophet_model.bin', 'random', 'seed=51629', 'data', 'file=/tmp/tmpmcwhbn54/rgtmuhk1.json', 'init=/tmp/tmpmcwhbn54/1s5p_lwc.json', 'output', 'file=/tmp/tmpmcwhbn54/prophet_modelogyrjvv6/prophet_model-20230206184002.csv', 'method=optimize', 'algorithm=lbfgs', 'iter=10000']\n",
            "18:40:02 - cmdstanpy - INFO - Chain [1] start processing\n",
            "INFO:cmdstanpy:Chain [1] start processing\n",
            "18:40:02 - cmdstanpy - INFO - Chain [1] done processing\n",
            "INFO:cmdstanpy:Chain [1] done processing\n"
          ]
        },
        {
          "output_type": "execute_result",
          "data": {
            "text/plain": [
              "<prophet.forecaster.Prophet at 0x7f16b5478b80>"
            ]
          },
          "metadata": {},
          "execution_count": 63
        }
      ]
    },
    {
      "cell_type": "code",
      "source": [
        "forecast_train_df = model_prophet.predict(prophet_train_df)\n",
        "forecast_test_df = model_prophet.predict(prophet_test_df)"
      ],
      "metadata": {
        "id": "ZuZx4nGt-qh7"
      },
      "execution_count": null,
      "outputs": []
    },
    {
      "cell_type": "code",
      "source": [
        "get_stat(forecast_train_df, 'forecast_train_df')\n",
        "get_stat(forecast_test_df, 'forecast_test_df')"
      ],
      "metadata": {
        "colab": {
          "base_uri": "https://localhost:8080/"
        },
        "id": "lELkcrSYLSHX",
        "outputId": "01d46b1d-05ec-4199-b47b-a533d766467a"
      },
      "execution_count": null,
      "outputs": [
        {
          "output_type": "stream",
          "name": "stdout",
          "text": [
            "__статистика по  датафрейму forecast_train_df___\n",
            "shape =  (229, 16)\n",
            "min_dt =  1750-01-01 00:00:00\n",
            "max_dt =  1978-01-01 00:00:00\n",
            "columns =  ['ds', 'trend', 'yhat_lower', 'yhat_upper', 'trend_lower', 'trend_upper', 'additive_terms', 'additive_terms_lower', 'additive_terms_upper', 'custom_seasonality', 'custom_seasonality_lower', 'custom_seasonality_upper', 'multiplicative_terms', 'multiplicative_terms_lower', 'multiplicative_terms_upper', 'yhat']\n",
            "__статистика по  датафрейму forecast_test_df___\n",
            "shape =  (30, 16)\n",
            "min_dt =  1979-01-01 00:00:00\n",
            "max_dt =  2008-01-01 00:00:00\n",
            "columns =  ['ds', 'trend', 'yhat_lower', 'yhat_upper', 'trend_lower', 'trend_upper', 'additive_terms', 'additive_terms_lower', 'additive_terms_upper', 'custom_seasonality', 'custom_seasonality_lower', 'custom_seasonality_upper', 'multiplicative_terms', 'multiplicative_terms_lower', 'multiplicative_terms_upper', 'yhat']\n"
          ]
        }
      ]
    },
    {
      "cell_type": "code",
      "source": [
        "# создадим датафрейм с будущими значениями, для данного датафрейма нет фактических y, будут только прогнозные значения\n",
        "from datetime import timedelta\n",
        "# (forecast_test_df['ds'].max() + timedelta(days=366)).strftime('%Y-%m-%d')\n",
        "prophet_future_df = pd.DataFrame(columns=['ds', ])\n",
        "prophet_future_df['ds'] = pd.date_range(start=(forecast_test_df['ds'].max() + timedelta(days=366)).strftime('%Y-%m-%d'), \n",
        "                                        periods=15,\n",
        "                                        freq='YS',\n",
        "                                        normalize=False)\n",
        "get_stat(prophet_future_df, 'prophet_future_df')"
      ],
      "metadata": {
        "colab": {
          "base_uri": "https://localhost:8080/"
        },
        "id": "TJvJNG4-AO1o",
        "outputId": "37c17444-e258-41da-8ef1-139041387432"
      },
      "execution_count": null,
      "outputs": [
        {
          "output_type": "stream",
          "name": "stdout",
          "text": [
            "__статистика по  датафрейму prophet_future_df___\n",
            "shape =  (15, 1)\n",
            "min_dt =  2009-01-01 00:00:00\n",
            "max_dt =  2023-01-01 00:00:00\n",
            "columns =  ['ds']\n"
          ]
        }
      ]
    },
    {
      "cell_type": "code",
      "source": [
        "# строим прогноз для датафрейма с будущими значениями\n",
        "forecast_future_df = model_prophet.predict(prophet_future_df)\n",
        "get_stat(forecast_future_df, 'forecast_future_df')"
      ],
      "metadata": {
        "colab": {
          "base_uri": "https://localhost:8080/"
        },
        "id": "wLhkAzyBA2ns",
        "outputId": "9632e5ee-21bf-4b42-c80f-a886a5f9e6c8"
      },
      "execution_count": null,
      "outputs": [
        {
          "output_type": "stream",
          "name": "stdout",
          "text": [
            "__статистика по  датафрейму forecast_future_df___\n",
            "shape =  (15, 16)\n",
            "min_dt =  2009-01-01 00:00:00\n",
            "max_dt =  2023-01-01 00:00:00\n",
            "columns =  ['ds', 'trend', 'yhat_lower', 'yhat_upper', 'trend_lower', 'trend_upper', 'additive_terms', 'additive_terms_lower', 'additive_terms_upper', 'custom_seasonality', 'custom_seasonality_lower', 'custom_seasonality_upper', 'multiplicative_terms', 'multiplicative_terms_lower', 'multiplicative_terms_upper', 'yhat']\n"
          ]
        }
      ]
    },
    {
      "cell_type": "code",
      "source": [
        "# Считаем ошибки\n",
        "from sklearn.metrics import mean_absolute_percentage_error as MAPE\n",
        "from sklearn.metrics import mean_squared_error as MSE\n",
        "\n",
        "\n",
        "print('MAPE_test:', MAPE(prophet_test_df['y'], forecast_test_df['yhat']))\n",
        "print('RMSE_test:', (MSE(prophet_test_df['y'], forecast_test_df['yhat']))**.5)\n",
        "print('MSE_test:', MSE(prophet_test_df['y'], forecast_test_df['yhat']))\n",
        "\n",
        "\n",
        "\n",
        "print('MAPE_train:', MAPE(prophet_train_df[prophet_train_df['ds']>datetime.date(1749,1,1)].iloc[:].set_index('ds')['y'], \n",
        "                          forecast_train_df.iloc[:].set_index('ds')['yhat']\n",
        "                          )\n",
        "      )\n",
        "print('RMSE_train:', (MSE(prophet_train_df[prophet_train_df['ds']>datetime.date(1749,1,1)]['y'], forecast_train_df['yhat']))**.5)\n",
        "print('MSE_train:', MSE(prophet_train_df[prophet_train_df['ds']>datetime.date(1749,1,1)]['y'], forecast_train_df['yhat']))"
      ],
      "metadata": {
        "colab": {
          "base_uri": "https://localhost:8080/"
        },
        "id": "WocLoTIFBHZo",
        "outputId": "82b660cc-7b36-46c2-80f8-e1084d908001"
      },
      "execution_count": null,
      "outputs": [
        {
          "output_type": "stream",
          "name": "stdout",
          "text": [
            "MAPE_test: 1.082534419768037\n",
            "RMSE_test: 41.427096292883114\n",
            "MSE_test: 1716.20430725981\n",
            "MAPE_train: 989944651496877.0\n",
            "RMSE_train: 25.3805568672275\n",
            "MSE_train: 644.1726668905691\n"
          ]
        }
      ]
    },
    {
      "cell_type": "code",
      "source": [
        "# объединяем прогнозы для отрисовки \n",
        "columns = ['ds', 'trend', 'custom_seasonality', 'yhat']\n",
        "df_pred = pd.concat([forecast_train_df, forecast_test_df, forecast_future_df])[columns]\n",
        "get_stat(df_pred, 'финальный датасет со всеми прогнозами')\n",
        "df_pred.tail()"
      ],
      "metadata": {
        "colab": {
          "base_uri": "https://localhost:8080/",
          "height": 295
        },
        "id": "DSLQO2bzBHcl",
        "outputId": "69725594-5a08-4134-9c17-fed65b59c1e7"
      },
      "execution_count": null,
      "outputs": [
        {
          "output_type": "stream",
          "name": "stdout",
          "text": [
            "__статистика по  датафрейму финальный датасет со всеми прогнозами___\n",
            "shape =  (274, 4)\n",
            "min_dt =  1750-01-01 00:00:00\n",
            "max_dt =  2023-01-01 00:00:00\n",
            "columns =  ['ds', 'trend', 'custom_seasonality', 'yhat']\n"
          ]
        },
        {
          "output_type": "execute_result",
          "data": {
            "text/plain": [
              "           ds      trend  custom_seasonality        yhat\n",
              "10 2019-01-01  87.574409          -63.374664   24.199745\n",
              "11 2020-01-01  87.680079          -62.692893   24.987186\n",
              "12 2021-01-01  87.786039          -46.384610   41.401429\n",
              "13 2022-01-01  87.891709          -24.535229   63.356480\n",
              "14 2023-01-01  87.997380           23.201012  111.198392"
            ],
            "text/html": [
              "\n",
              "  <div id=\"df-6396f3d9-7d4e-421f-9db4-fb9dce7f1ce4\">\n",
              "    <div class=\"colab-df-container\">\n",
              "      <div>\n",
              "<style scoped>\n",
              "    .dataframe tbody tr th:only-of-type {\n",
              "        vertical-align: middle;\n",
              "    }\n",
              "\n",
              "    .dataframe tbody tr th {\n",
              "        vertical-align: top;\n",
              "    }\n",
              "\n",
              "    .dataframe thead th {\n",
              "        text-align: right;\n",
              "    }\n",
              "</style>\n",
              "<table border=\"1\" class=\"dataframe\">\n",
              "  <thead>\n",
              "    <tr style=\"text-align: right;\">\n",
              "      <th></th>\n",
              "      <th>ds</th>\n",
              "      <th>trend</th>\n",
              "      <th>custom_seasonality</th>\n",
              "      <th>yhat</th>\n",
              "    </tr>\n",
              "  </thead>\n",
              "  <tbody>\n",
              "    <tr>\n",
              "      <th>10</th>\n",
              "      <td>2019-01-01</td>\n",
              "      <td>87.574409</td>\n",
              "      <td>-63.374664</td>\n",
              "      <td>24.199745</td>\n",
              "    </tr>\n",
              "    <tr>\n",
              "      <th>11</th>\n",
              "      <td>2020-01-01</td>\n",
              "      <td>87.680079</td>\n",
              "      <td>-62.692893</td>\n",
              "      <td>24.987186</td>\n",
              "    </tr>\n",
              "    <tr>\n",
              "      <th>12</th>\n",
              "      <td>2021-01-01</td>\n",
              "      <td>87.786039</td>\n",
              "      <td>-46.384610</td>\n",
              "      <td>41.401429</td>\n",
              "    </tr>\n",
              "    <tr>\n",
              "      <th>13</th>\n",
              "      <td>2022-01-01</td>\n",
              "      <td>87.891709</td>\n",
              "      <td>-24.535229</td>\n",
              "      <td>63.356480</td>\n",
              "    </tr>\n",
              "    <tr>\n",
              "      <th>14</th>\n",
              "      <td>2023-01-01</td>\n",
              "      <td>87.997380</td>\n",
              "      <td>23.201012</td>\n",
              "      <td>111.198392</td>\n",
              "    </tr>\n",
              "  </tbody>\n",
              "</table>\n",
              "</div>\n",
              "      <button class=\"colab-df-convert\" onclick=\"convertToInteractive('df-6396f3d9-7d4e-421f-9db4-fb9dce7f1ce4')\"\n",
              "              title=\"Convert this dataframe to an interactive table.\"\n",
              "              style=\"display:none;\">\n",
              "        \n",
              "  <svg xmlns=\"http://www.w3.org/2000/svg\" height=\"24px\"viewBox=\"0 0 24 24\"\n",
              "       width=\"24px\">\n",
              "    <path d=\"M0 0h24v24H0V0z\" fill=\"none\"/>\n",
              "    <path d=\"M18.56 5.44l.94 2.06.94-2.06 2.06-.94-2.06-.94-.94-2.06-.94 2.06-2.06.94zm-11 1L8.5 8.5l.94-2.06 2.06-.94-2.06-.94L8.5 2.5l-.94 2.06-2.06.94zm10 10l.94 2.06.94-2.06 2.06-.94-2.06-.94-.94-2.06-.94 2.06-2.06.94z\"/><path d=\"M17.41 7.96l-1.37-1.37c-.4-.4-.92-.59-1.43-.59-.52 0-1.04.2-1.43.59L10.3 9.45l-7.72 7.72c-.78.78-.78 2.05 0 2.83L4 21.41c.39.39.9.59 1.41.59.51 0 1.02-.2 1.41-.59l7.78-7.78 2.81-2.81c.8-.78.8-2.07 0-2.86zM5.41 20L4 18.59l7.72-7.72 1.47 1.35L5.41 20z\"/>\n",
              "  </svg>\n",
              "      </button>\n",
              "      \n",
              "  <style>\n",
              "    .colab-df-container {\n",
              "      display:flex;\n",
              "      flex-wrap:wrap;\n",
              "      gap: 12px;\n",
              "    }\n",
              "\n",
              "    .colab-df-convert {\n",
              "      background-color: #E8F0FE;\n",
              "      border: none;\n",
              "      border-radius: 50%;\n",
              "      cursor: pointer;\n",
              "      display: none;\n",
              "      fill: #1967D2;\n",
              "      height: 32px;\n",
              "      padding: 0 0 0 0;\n",
              "      width: 32px;\n",
              "    }\n",
              "\n",
              "    .colab-df-convert:hover {\n",
              "      background-color: #E2EBFA;\n",
              "      box-shadow: 0px 1px 2px rgba(60, 64, 67, 0.3), 0px 1px 3px 1px rgba(60, 64, 67, 0.15);\n",
              "      fill: #174EA6;\n",
              "    }\n",
              "\n",
              "    [theme=dark] .colab-df-convert {\n",
              "      background-color: #3B4455;\n",
              "      fill: #D2E3FC;\n",
              "    }\n",
              "\n",
              "    [theme=dark] .colab-df-convert:hover {\n",
              "      background-color: #434B5C;\n",
              "      box-shadow: 0px 1px 3px 1px rgba(0, 0, 0, 0.15);\n",
              "      filter: drop-shadow(0px 1px 2px rgba(0, 0, 0, 0.3));\n",
              "      fill: #FFFFFF;\n",
              "    }\n",
              "  </style>\n",
              "\n",
              "      <script>\n",
              "        const buttonEl =\n",
              "          document.querySelector('#df-6396f3d9-7d4e-421f-9db4-fb9dce7f1ce4 button.colab-df-convert');\n",
              "        buttonEl.style.display =\n",
              "          google.colab.kernel.accessAllowed ? 'block' : 'none';\n",
              "\n",
              "        async function convertToInteractive(key) {\n",
              "          const element = document.querySelector('#df-6396f3d9-7d4e-421f-9db4-fb9dce7f1ce4');\n",
              "          const dataTable =\n",
              "            await google.colab.kernel.invokeFunction('convertToInteractive',\n",
              "                                                     [key], {});\n",
              "          if (!dataTable) return;\n",
              "\n",
              "          const docLinkHtml = 'Like what you see? Visit the ' +\n",
              "            '<a target=\"_blank\" href=https://colab.research.google.com/notebooks/data_table.ipynb>data table notebook</a>'\n",
              "            + ' to learn more about interactive tables.';\n",
              "          element.innerHTML = '';\n",
              "          dataTable['output_type'] = 'display_data';\n",
              "          await google.colab.output.renderOutput(dataTable, element);\n",
              "          const docLink = document.createElement('div');\n",
              "          docLink.innerHTML = docLinkHtml;\n",
              "          element.appendChild(docLink);\n",
              "        }\n",
              "      </script>\n",
              "    </div>\n",
              "  </div>\n",
              "  "
            ]
          },
          "metadata": {},
          "execution_count": 69
        }
      ]
    },
    {
      "cell_type": "code",
      "source": [
        "# проверяем, что предудущий шаг отработал верно\n",
        "forecast_train_df.shape[0]+forecast_test_df.shape[0]+forecast_future_df.shape[0] == df_pred.shape[0]"
      ],
      "metadata": {
        "colab": {
          "base_uri": "https://localhost:8080/"
        },
        "id": "nzIO7_UNBHfx",
        "outputId": "10335753-37fa-4c37-aafe-52f1f4246c15"
      },
      "execution_count": null,
      "outputs": [
        {
          "output_type": "execute_result",
          "data": {
            "text/plain": [
              "True"
            ]
          },
          "metadata": {},
          "execution_count": 70
        }
      ]
    },
    {
      "cell_type": "code",
      "source": [
        "import plotly.graph_objects as go\n",
        "\n",
        "fig = go.Figure()\n",
        "fig.add_trace(go.Scatter(x=df['ds'], y=df['y'],\n",
        "                    mode='lines+markers',\n",
        "                    name='y'))\n",
        "fig.add_trace(go.Scatter(x=df_pred['ds'], y=df_pred['yhat'],\n",
        "                    mode='lines+markers',\n",
        "                    name='yhat'))\n",
        "fig.add_trace(go.Scatter(x=df_pred['ds'], y=df_pred['custom_seasonality'],\n",
        "                    mode='lines',\n",
        "                    name='custom_seasonality'))\n",
        "fig.add_trace(go.Scatter(x=df_pred['ds'], y=df_pred['trend'],\n",
        "                    mode='lines',\n",
        "                    name='trend'))\n",
        "\n",
        "fig.show()"
      ],
      "metadata": {
        "colab": {
          "base_uri": "https://localhost:8080/",
          "height": 542
        },
        "id": "eWkUOrOJBHiZ",
        "outputId": "7c37508d-3b70-48bf-98e3-2b94de5a10b8"
      },
      "execution_count": null,
      "outputs": [
        {
          "output_type": "display_data",
          "data": {
            "text/html": [
              "<html>\n",
              "<head><meta charset=\"utf-8\" /></head>\n",
              "<body>\n",
              "    <div>            <script src=\"https://cdnjs.cloudflare.com/ajax/libs/mathjax/2.7.5/MathJax.js?config=TeX-AMS-MML_SVG\"></script><script type=\"text/javascript\">if (window.MathJax) {MathJax.Hub.Config({SVG: {font: \"STIX-Web\"}});}</script>                <script type=\"text/javascript\">window.PlotlyConfig = {MathJaxConfig: 'local'};</script>\n",
              "        <script src=\"https://cdn.plot.ly/plotly-2.8.3.min.js\"></script>                <div id=\"024259a8-d334-45e5-9dce-050df3fd147e\" class=\"plotly-graph-div\" style=\"height:525px; width:100%;\"></div>            <script type=\"text/javascript\">                                    window.PLOTLYENV=window.PLOTLYENV || {};                                    if (document.getElementById(\"024259a8-d334-45e5-9dce-050df3fd147e\")) {                    Plotly.newPlot(                        \"024259a8-d334-45e5-9dce-050df3fd147e\",                        [{\"mode\":\"lines+markers\",\"name\":\"y\",\"x\":[\"1700-01-01\",\"1701-01-01\",\"1702-01-01\",\"1703-01-01\",\"1704-01-01\",\"1705-01-01\",\"1706-01-01\",\"1707-01-01\",\"1708-01-01\",\"1709-01-01\",\"1710-01-01\",\"1711-01-01\",\"1712-01-01\",\"1713-01-01\",\"1714-01-01\",\"1715-01-01\",\"1716-01-01\",\"1717-01-01\",\"1718-01-01\",\"1719-01-01\",\"1720-01-01\",\"1721-01-01\",\"1722-01-01\",\"1723-01-01\",\"1724-01-01\",\"1725-01-01\",\"1726-01-01\",\"1727-01-01\",\"1728-01-01\",\"1729-01-01\",\"1730-01-01\",\"1731-01-01\",\"1732-01-01\",\"1733-01-01\",\"1734-01-01\",\"1735-01-01\",\"1736-01-01\",\"1737-01-01\",\"1738-01-01\",\"1739-01-01\",\"1740-01-01\",\"1741-01-01\",\"1742-01-01\",\"1743-01-01\",\"1744-01-01\",\"1745-01-01\",\"1746-01-01\",\"1747-01-01\",\"1748-01-01\",\"1749-01-01\",\"1750-01-01\",\"1751-01-01\",\"1752-01-01\",\"1753-01-01\",\"1754-01-01\",\"1755-01-01\",\"1756-01-01\",\"1757-01-01\",\"1758-01-01\",\"1759-01-01\",\"1760-01-01\",\"1761-01-01\",\"1762-01-01\",\"1763-01-01\",\"1764-01-01\",\"1765-01-01\",\"1766-01-01\",\"1767-01-01\",\"1768-01-01\",\"1769-01-01\",\"1770-01-01\",\"1771-01-01\",\"1772-01-01\",\"1773-01-01\",\"1774-01-01\",\"1775-01-01\",\"1776-01-01\",\"1777-01-01\",\"1778-01-01\",\"1779-01-01\",\"1780-01-01\",\"1781-01-01\",\"1782-01-01\",\"1783-01-01\",\"1784-01-01\",\"1785-01-01\",\"1786-01-01\",\"1787-01-01\",\"1788-01-01\",\"1789-01-01\",\"1790-01-01\",\"1791-01-01\",\"1792-01-01\",\"1793-01-01\",\"1794-01-01\",\"1795-01-01\",\"1796-01-01\",\"1797-01-01\",\"1798-01-01\",\"1799-01-01\",\"1800-01-01\",\"1801-01-01\",\"1802-01-01\",\"1803-01-01\",\"1804-01-01\",\"1805-01-01\",\"1806-01-01\",\"1807-01-01\",\"1808-01-01\",\"1809-01-01\",\"1810-01-01\",\"1811-01-01\",\"1812-01-01\",\"1813-01-01\",\"1814-01-01\",\"1815-01-01\",\"1816-01-01\",\"1817-01-01\",\"1818-01-01\",\"1819-01-01\",\"1820-01-01\",\"1821-01-01\",\"1822-01-01\",\"1823-01-01\",\"1824-01-01\",\"1825-01-01\",\"1826-01-01\",\"1827-01-01\",\"1828-01-01\",\"1829-01-01\",\"1830-01-01\",\"1831-01-01\",\"1832-01-01\",\"1833-01-01\",\"1834-01-01\",\"1835-01-01\",\"1836-01-01\",\"1837-01-01\",\"1838-01-01\",\"1839-01-01\",\"1840-01-01\",\"1841-01-01\",\"1842-01-01\",\"1843-01-01\",\"1844-01-01\",\"1845-01-01\",\"1846-01-01\",\"1847-01-01\",\"1848-01-01\",\"1849-01-01\",\"1850-01-01\",\"1851-01-01\",\"1852-01-01\",\"1853-01-01\",\"1854-01-01\",\"1855-01-01\",\"1856-01-01\",\"1857-01-01\",\"1858-01-01\",\"1859-01-01\",\"1860-01-01\",\"1861-01-01\",\"1862-01-01\",\"1863-01-01\",\"1864-01-01\",\"1865-01-01\",\"1866-01-01\",\"1867-01-01\",\"1868-01-01\",\"1869-01-01\",\"1870-01-01\",\"1871-01-01\",\"1872-01-01\",\"1873-01-01\",\"1874-01-01\",\"1875-01-01\",\"1876-01-01\",\"1877-01-01\",\"1878-01-01\",\"1879-01-01\",\"1880-01-01\",\"1881-01-01\",\"1882-01-01\",\"1883-01-01\",\"1884-01-01\",\"1885-01-01\",\"1886-01-01\",\"1887-01-01\",\"1888-01-01\",\"1889-01-01\",\"1890-01-01\",\"1891-01-01\",\"1892-01-01\",\"1893-01-01\",\"1894-01-01\",\"1895-01-01\",\"1896-01-01\",\"1897-01-01\",\"1898-01-01\",\"1899-01-01\",\"1900-01-01\",\"1901-01-01\",\"1902-01-01\",\"1903-01-01\",\"1904-01-01\",\"1905-01-01\",\"1906-01-01\",\"1907-01-01\",\"1908-01-01\",\"1909-01-01\",\"1910-01-01\",\"1911-01-01\",\"1912-01-01\",\"1913-01-01\",\"1914-01-01\",\"1915-01-01\",\"1916-01-01\",\"1917-01-01\",\"1918-01-01\",\"1919-01-01\",\"1920-01-01\",\"1921-01-01\",\"1922-01-01\",\"1923-01-01\",\"1924-01-01\",\"1925-01-01\",\"1926-01-01\",\"1927-01-01\",\"1928-01-01\",\"1929-01-01\",\"1930-01-01\",\"1931-01-01\",\"1932-01-01\",\"1933-01-01\",\"1934-01-01\",\"1935-01-01\",\"1936-01-01\",\"1937-01-01\",\"1938-01-01\",\"1939-01-01\",\"1940-01-01\",\"1941-01-01\",\"1942-01-01\",\"1943-01-01\",\"1944-01-01\",\"1945-01-01\",\"1946-01-01\",\"1947-01-01\",\"1948-01-01\",\"1949-01-01\",\"1950-01-01\",\"1951-01-01\",\"1952-01-01\",\"1953-01-01\",\"1954-01-01\",\"1955-01-01\",\"1956-01-01\",\"1957-01-01\",\"1958-01-01\",\"1959-01-01\",\"1960-01-01\",\"1961-01-01\",\"1962-01-01\",\"1963-01-01\",\"1964-01-01\",\"1965-01-01\",\"1966-01-01\",\"1967-01-01\",\"1968-01-01\",\"1969-01-01\",\"1970-01-01\",\"1971-01-01\",\"1972-01-01\",\"1973-01-01\",\"1974-01-01\",\"1975-01-01\",\"1976-01-01\",\"1977-01-01\",\"1978-01-01\",\"1979-01-01\",\"1980-01-01\",\"1981-01-01\",\"1982-01-01\",\"1983-01-01\",\"1984-01-01\",\"1985-01-01\",\"1986-01-01\",\"1987-01-01\",\"1988-01-01\",\"1989-01-01\",\"1990-01-01\",\"1991-01-01\",\"1992-01-01\",\"1993-01-01\",\"1994-01-01\",\"1995-01-01\",\"1996-01-01\",\"1997-01-01\",\"1998-01-01\",\"1999-01-01\",\"2000-01-01\",\"2001-01-01\",\"2002-01-01\",\"2003-01-01\",\"2004-01-01\",\"2005-01-01\",\"2006-01-01\",\"2007-01-01\",\"2008-01-01\"],\"y\":[5.0,11.0,16.0,23.0,36.0,58.0,29.0,20.0,10.0,8.0,3.0,0.0,0.0,2.0,11.0,27.0,47.0,63.0,60.0,39.0,28.0,26.0,22.0,11.0,21.0,40.0,78.0,122.0,103.0,73.0,47.0,35.0,11.0,5.0,16.0,34.0,70.0,81.0,111.0,101.0,73.0,40.0,20.0,16.0,5.0,11.0,22.0,40.0,60.0,80.9,83.4,47.7,47.8,30.7,12.2,9.6,10.2,32.4,47.6,54.0,62.9,85.9,61.2,45.1,36.4,20.9,11.4,37.8,69.8,106.1,100.8,81.6,66.5,34.8,30.6,7.0,19.8,92.5,154.4,125.9,84.8,68.1,38.5,22.8,10.2,24.1,82.9,132.0,130.9,118.1,89.9,66.6,60.0,46.9,41.0,21.3,16.0,6.4,4.1,6.8,14.5,34.0,45.0,43.1,47.5,42.2,28.1,10.1,8.1,2.5,0.0,1.4,5.0,12.2,13.9,35.4,45.8,41.1,30.1,23.9,15.6,6.6,4.0,1.8,8.5,16.6,36.3,49.6,64.2,67.0,70.9,47.8,27.5,8.5,13.2,56.9,121.5,138.3,103.2,85.7,64.6,36.7,24.2,10.7,15.0,40.1,61.5,98.5,124.7,96.3,66.6,64.5,54.1,39.0,20.6,6.7,4.3,22.7,54.8,93.8,95.8,77.2,59.1,44.0,47.0,30.5,16.3,7.3,37.6,74.0,139.0,111.2,101.6,66.2,44.7,17.0,11.3,12.4,3.4,6.0,32.3,54.3,59.7,63.7,63.5,52.2,25.4,13.1,6.8,6.3,7.1,35.6,73.0,85.1,78.0,64.0,41.8,26.2,26.7,12.1,9.5,2.7,5.0,24.4,42.0,63.5,53.8,62.0,48.5,43.9,18.6,5.7,3.6,1.4,9.6,47.4,57.1,103.9,80.6,63.6,37.6,26.1,14.2,5.8,16.7,44.3,63.9,69.0,77.8,64.9,35.7,21.2,11.1,5.7,8.7,36.1,79.7,114.4,109.6,88.8,67.8,47.5,30.6,16.3,9.6,33.2,92.6,151.6,136.3,134.7,83.9,69.4,31.5,13.9,4.4,38.0,141.7,190.2,184.8,159.0,112.3,53.9,37.6,27.9,10.2,15.1,47.0,93.8,105.9,105.5,104.5,66.6,68.9,38.0,34.5,15.5,12.6,27.5,92.5,155.4,154.6,140.4,115.9,66.6,45.9,17.9,13.4,29.4,100.2,157.6,142.6,145.7,94.3,54.6,29.9,17.5,8.6,21.5,64.3,93.3,119.6,111.0,104.0,63.7,40.4,29.8,15.2,7.5,2.9],\"type\":\"scatter\"},{\"mode\":\"lines+markers\",\"name\":\"yhat\",\"x\":[\"1750-01-01T00:00:00\",\"1751-01-01T00:00:00\",\"1752-01-01T00:00:00\",\"1753-01-01T00:00:00\",\"1754-01-01T00:00:00\",\"1755-01-01T00:00:00\",\"1756-01-01T00:00:00\",\"1757-01-01T00:00:00\",\"1758-01-01T00:00:00\",\"1759-01-01T00:00:00\",\"1760-01-01T00:00:00\",\"1761-01-01T00:00:00\",\"1762-01-01T00:00:00\",\"1763-01-01T00:00:00\",\"1764-01-01T00:00:00\",\"1765-01-01T00:00:00\",\"1766-01-01T00:00:00\",\"1767-01-01T00:00:00\",\"1768-01-01T00:00:00\",\"1769-01-01T00:00:00\",\"1770-01-01T00:00:00\",\"1771-01-01T00:00:00\",\"1772-01-01T00:00:00\",\"1773-01-01T00:00:00\",\"1774-01-01T00:00:00\",\"1775-01-01T00:00:00\",\"1776-01-01T00:00:00\",\"1777-01-01T00:00:00\",\"1778-01-01T00:00:00\",\"1779-01-01T00:00:00\",\"1780-01-01T00:00:00\",\"1781-01-01T00:00:00\",\"1782-01-01T00:00:00\",\"1783-01-01T00:00:00\",\"1784-01-01T00:00:00\",\"1785-01-01T00:00:00\",\"1786-01-01T00:00:00\",\"1787-01-01T00:00:00\",\"1788-01-01T00:00:00\",\"1789-01-01T00:00:00\",\"1790-01-01T00:00:00\",\"1791-01-01T00:00:00\",\"1792-01-01T00:00:00\",\"1793-01-01T00:00:00\",\"1794-01-01T00:00:00\",\"1795-01-01T00:00:00\",\"1796-01-01T00:00:00\",\"1797-01-01T00:00:00\",\"1798-01-01T00:00:00\",\"1799-01-01T00:00:00\",\"1800-01-01T00:00:00\",\"1801-01-01T00:00:00\",\"1802-01-01T00:00:00\",\"1803-01-01T00:00:00\",\"1804-01-01T00:00:00\",\"1805-01-01T00:00:00\",\"1806-01-01T00:00:00\",\"1807-01-01T00:00:00\",\"1808-01-01T00:00:00\",\"1809-01-01T00:00:00\",\"1810-01-01T00:00:00\",\"1811-01-01T00:00:00\",\"1812-01-01T00:00:00\",\"1813-01-01T00:00:00\",\"1814-01-01T00:00:00\",\"1815-01-01T00:00:00\",\"1816-01-01T00:00:00\",\"1817-01-01T00:00:00\",\"1818-01-01T00:00:00\",\"1819-01-01T00:00:00\",\"1820-01-01T00:00:00\",\"1821-01-01T00:00:00\",\"1822-01-01T00:00:00\",\"1823-01-01T00:00:00\",\"1824-01-01T00:00:00\",\"1825-01-01T00:00:00\",\"1826-01-01T00:00:00\",\"1827-01-01T00:00:00\",\"1828-01-01T00:00:00\",\"1829-01-01T00:00:00\",\"1830-01-01T00:00:00\",\"1831-01-01T00:00:00\",\"1832-01-01T00:00:00\",\"1833-01-01T00:00:00\",\"1834-01-01T00:00:00\",\"1835-01-01T00:00:00\",\"1836-01-01T00:00:00\",\"1837-01-01T00:00:00\",\"1838-01-01T00:00:00\",\"1839-01-01T00:00:00\",\"1840-01-01T00:00:00\",\"1841-01-01T00:00:00\",\"1842-01-01T00:00:00\",\"1843-01-01T00:00:00\",\"1844-01-01T00:00:00\",\"1845-01-01T00:00:00\",\"1846-01-01T00:00:00\",\"1847-01-01T00:00:00\",\"1848-01-01T00:00:00\",\"1849-01-01T00:00:00\",\"1850-01-01T00:00:00\",\"1851-01-01T00:00:00\",\"1852-01-01T00:00:00\",\"1853-01-01T00:00:00\",\"1854-01-01T00:00:00\",\"1855-01-01T00:00:00\",\"1856-01-01T00:00:00\",\"1857-01-01T00:00:00\",\"1858-01-01T00:00:00\",\"1859-01-01T00:00:00\",\"1860-01-01T00:00:00\",\"1861-01-01T00:00:00\",\"1862-01-01T00:00:00\",\"1863-01-01T00:00:00\",\"1864-01-01T00:00:00\",\"1865-01-01T00:00:00\",\"1866-01-01T00:00:00\",\"1867-01-01T00:00:00\",\"1868-01-01T00:00:00\",\"1869-01-01T00:00:00\",\"1870-01-01T00:00:00\",\"1871-01-01T00:00:00\",\"1872-01-01T00:00:00\",\"1873-01-01T00:00:00\",\"1874-01-01T00:00:00\",\"1875-01-01T00:00:00\",\"1876-01-01T00:00:00\",\"1877-01-01T00:00:00\",\"1878-01-01T00:00:00\",\"1879-01-01T00:00:00\",\"1880-01-01T00:00:00\",\"1881-01-01T00:00:00\",\"1882-01-01T00:00:00\",\"1883-01-01T00:00:00\",\"1884-01-01T00:00:00\",\"1885-01-01T00:00:00\",\"1886-01-01T00:00:00\",\"1887-01-01T00:00:00\",\"1888-01-01T00:00:00\",\"1889-01-01T00:00:00\",\"1890-01-01T00:00:00\",\"1891-01-01T00:00:00\",\"1892-01-01T00:00:00\",\"1893-01-01T00:00:00\",\"1894-01-01T00:00:00\",\"1895-01-01T00:00:00\",\"1896-01-01T00:00:00\",\"1897-01-01T00:00:00\",\"1898-01-01T00:00:00\",\"1899-01-01T00:00:00\",\"1900-01-01T00:00:00\",\"1901-01-01T00:00:00\",\"1902-01-01T00:00:00\",\"1903-01-01T00:00:00\",\"1904-01-01T00:00:00\",\"1905-01-01T00:00:00\",\"1906-01-01T00:00:00\",\"1907-01-01T00:00:00\",\"1908-01-01T00:00:00\",\"1909-01-01T00:00:00\",\"1910-01-01T00:00:00\",\"1911-01-01T00:00:00\",\"1912-01-01T00:00:00\",\"1913-01-01T00:00:00\",\"1914-01-01T00:00:00\",\"1915-01-01T00:00:00\",\"1916-01-01T00:00:00\",\"1917-01-01T00:00:00\",\"1918-01-01T00:00:00\",\"1919-01-01T00:00:00\",\"1920-01-01T00:00:00\",\"1921-01-01T00:00:00\",\"1922-01-01T00:00:00\",\"1923-01-01T00:00:00\",\"1924-01-01T00:00:00\",\"1925-01-01T00:00:00\",\"1926-01-01T00:00:00\",\"1927-01-01T00:00:00\",\"1928-01-01T00:00:00\",\"1929-01-01T00:00:00\",\"1930-01-01T00:00:00\",\"1931-01-01T00:00:00\",\"1932-01-01T00:00:00\",\"1933-01-01T00:00:00\",\"1934-01-01T00:00:00\",\"1935-01-01T00:00:00\",\"1936-01-01T00:00:00\",\"1937-01-01T00:00:00\",\"1938-01-01T00:00:00\",\"1939-01-01T00:00:00\",\"1940-01-01T00:00:00\",\"1941-01-01T00:00:00\",\"1942-01-01T00:00:00\",\"1943-01-01T00:00:00\",\"1944-01-01T00:00:00\",\"1945-01-01T00:00:00\",\"1946-01-01T00:00:00\",\"1947-01-01T00:00:00\",\"1948-01-01T00:00:00\",\"1949-01-01T00:00:00\",\"1950-01-01T00:00:00\",\"1951-01-01T00:00:00\",\"1952-01-01T00:00:00\",\"1953-01-01T00:00:00\",\"1954-01-01T00:00:00\",\"1955-01-01T00:00:00\",\"1956-01-01T00:00:00\",\"1957-01-01T00:00:00\",\"1958-01-01T00:00:00\",\"1959-01-01T00:00:00\",\"1960-01-01T00:00:00\",\"1961-01-01T00:00:00\",\"1962-01-01T00:00:00\",\"1963-01-01T00:00:00\",\"1964-01-01T00:00:00\",\"1965-01-01T00:00:00\",\"1966-01-01T00:00:00\",\"1967-01-01T00:00:00\",\"1968-01-01T00:00:00\",\"1969-01-01T00:00:00\",\"1970-01-01T00:00:00\",\"1971-01-01T00:00:00\",\"1972-01-01T00:00:00\",\"1973-01-01T00:00:00\",\"1974-01-01T00:00:00\",\"1975-01-01T00:00:00\",\"1976-01-01T00:00:00\",\"1977-01-01T00:00:00\",\"1978-01-01T00:00:00\",\"1979-01-01T00:00:00\",\"1980-01-01T00:00:00\",\"1981-01-01T00:00:00\",\"1982-01-01T00:00:00\",\"1983-01-01T00:00:00\",\"1984-01-01T00:00:00\",\"1985-01-01T00:00:00\",\"1986-01-01T00:00:00\",\"1987-01-01T00:00:00\",\"1988-01-01T00:00:00\",\"1989-01-01T00:00:00\",\"1990-01-01T00:00:00\",\"1991-01-01T00:00:00\",\"1992-01-01T00:00:00\",\"1993-01-01T00:00:00\",\"1994-01-01T00:00:00\",\"1995-01-01T00:00:00\",\"1996-01-01T00:00:00\",\"1997-01-01T00:00:00\",\"1998-01-01T00:00:00\",\"1999-01-01T00:00:00\",\"2000-01-01T00:00:00\",\"2001-01-01T00:00:00\",\"2002-01-01T00:00:00\",\"2003-01-01T00:00:00\",\"2004-01-01T00:00:00\",\"2005-01-01T00:00:00\",\"2006-01-01T00:00:00\",\"2007-01-01T00:00:00\",\"2008-01-01T00:00:00\",\"2009-01-01T00:00:00\",\"2010-01-01T00:00:00\",\"2011-01-01T00:00:00\",\"2012-01-01T00:00:00\",\"2013-01-01T00:00:00\",\"2014-01-01T00:00:00\",\"2015-01-01T00:00:00\",\"2016-01-01T00:00:00\",\"2017-01-01T00:00:00\",\"2018-01-01T00:00:00\",\"2019-01-01T00:00:00\",\"2020-01-01T00:00:00\",\"2021-01-01T00:00:00\",\"2022-01-01T00:00:00\",\"2023-01-01T00:00:00\"],\"y\":[91.12984015878362,70.07175626282596,64.04925353158923,19.077093936047454,10.989089319156712,11.429473553085828,7.633790245654417,57.46814069175198,48.49578193269962,64.56386010674674,98.5024208867023,37.09936100940061,58.094627308537376,55.683620489267355,44.061354806521464,36.02689159684863,0.49094966156811637,12.194836521736946,44.982920268246446,65.60598253924536,105.2306798012711,124.24264907760224,103.7680811141208,23.32664031603001,26.274044005627324,13.237657024933178,20.59740038429134,34.65470183062051,47.264278939633186,66.03138677536016,58.98844713793753,57.128893202930655,56.78977186654239,45.15365895925001,38.61966745679276,34.15022822699427,31.82803124952519,48.79232061342701,37.54719805462821,85.63601007814327,56.794148641517225,50.8908116565094,67.12628901456895,64.35431010612447,47.025594139734416,24.874180711935054,24.847216311793098,6.514080198588573,6.620536443935883,4.519915223596172,36.17581722440951,48.785529091351535,67.55278467261695,60.50999278219588,51.53778177130173,58.3116134089464,46.67564824686896,40.14180449126653,61.13721853648927,33.361487603999706,50.33691800999321,39.10293649256892,3.5781356047331343,58.37219968982816,52.48000374705438,68.7266221471999,108.36246045636629,48.66354249742339,26.538396165973666,26.53769886365891,29.511504406945377,8.36362515335918,6.289271029827219,37.9714401273168,50.618616889254845,69.47860473382514,36.41335143638304,60.59613312209231,60.294611437879,59.37524284504425,70.97676198124758,37.76997951258508,35.487391932875276,5.213803397887304,13.346058739657131,89.41430745297436,60.612055408311775,115.89220128492202,103.24136940104052,68.29115357540499,51.00204700390158,40.676001301992386,24.33414322790503,10.609065147515174,10.754996038173083,37.676736649617155,61.590732322652926,98.54763936561194,71.90041572592663,97.79268649194984,66.68628972779591,64.58914980677969,61.805098349582806,23.97652283425665,20.741646476688814,6.858228266221744,7.645668690998399,24.059911792987698,46.01496293531163,93.8568747833459,118.32406662031677,65.14699887999001,51.41630896978784,44.11429240491794,43.107866656887225,11.93782690429947,7.5558932730109944,7.4556533106261185,40.10860202795345,62.38799863475727,95.67644942712786,111.23004270755544,100.2245518901176,54.793697220414295,38.76266623306717,17.136354323062058,26.408388247701566,6.847463674422258,5.215206425759632,4.322474458478069,26.491777211265493,59.26684193566357,64.59420824867442,57.5842967969318,67.57886429984895,34.31025026698021,24.41199642176408,14.67314312461832,14.369692327161971,18.805799636043304,27.01325109013849,21.42371966213277,64.81986405348775,76.4068377721704,80.82758708228721,71.13448549526464,57.22556263356076,20.149920635328073,18.41961309751448,11.969781045172262,9.279329080225097,7.647071829263368,6.754339860917241,28.923642611344853,50.87869375524265,67.02607365237625,60.01616220375431,70.01072970879704,56.28003980185636,26.843861835903162,17.105008541295902,16.801557747441727,12.419624120259549,29.44511651782716,23.85558509367533,67.25172948862301,100.54018028332032,83.25945252423688,73.56635094299014,59.65742808752512,43.6263971036375,20.851478563409373,14.401646516978929,11.711194557574458,10.078937312891895,89.13229606547118,63.90533929049391,64.1305728345771,69.45793915265673,47.02167632348915,35.732209331470855,39.173981187285065,29.275727347284608,72.52693907273363,8.757831781585253,23.66953057292502,31.876982030498993,108.27193652908413,87.25346204447816,81.27056872373117,85.69131803697842,28.289731852725176,28.76972549790893,25.01365160186188,23.28334406799558,65.95497062981246,82.06265821424208,116.0408284050225,91.5641615613726,75.71236216695715,73.34096475896828,61.75830848575828,49.453541812604996,18.267230680813448,30.01072695095239,62.838420106947666,74.9588045566332,123.16550697781301,142.21708566349992,121.78212710999365,110.70380201276939,44.36741734236856,31.37063977283391,38.769992542245966,30.721597336487683,65.51619844049347,84.32291568668298,77.31958546066446,68.38683611351854,75.20023752960361,63.6037340326649,57.109351941188905,78.14422765072214,50.39704307589012,67.40094184403844,56.19542868977661,20.69909616454249,75.52170660733725,69.65797902691327,85.93306578972212,125.59737246151612,65.91169824402249,43.79975947052422,43.812269725162515,46.79928282598621,25.66464731469611,23.60350074796162,55.29887740338363,67.94806392420189,86.81006703313722,53.74682349411554,77.93161493907004,77.63210301325547,76.71474968462606,88.31827857998259,55.111496124891076,52.828908559518844,22.555320037979975,30.68757539402555,106.75582412089285,77.95357209109508,133.23371798080714,120.58288610575495,85.63267028941019,68.34356372773121,58.01751803420188,41.67565996978307,27.95058189872016,28.096512798258694,55.018253419312444,78.9322490997372,115.88915614934469,89.2419325169108,115.13420328992461,84.02780653240859,81.93066661823877,79.14661516844566,41.318039655678675,38.0831633016098,24.19974509406621,24.987185521670177,41.40142862688302,63.35647977164655,111.19839162322839],\"type\":\"scatter\"},{\"mode\":\"lines\",\"name\":\"custom_seasonality\",\"x\":[\"1750-01-01T00:00:00\",\"1751-01-01T00:00:00\",\"1752-01-01T00:00:00\",\"1753-01-01T00:00:00\",\"1754-01-01T00:00:00\",\"1755-01-01T00:00:00\",\"1756-01-01T00:00:00\",\"1757-01-01T00:00:00\",\"1758-01-01T00:00:00\",\"1759-01-01T00:00:00\",\"1760-01-01T00:00:00\",\"1761-01-01T00:00:00\",\"1762-01-01T00:00:00\",\"1763-01-01T00:00:00\",\"1764-01-01T00:00:00\",\"1765-01-01T00:00:00\",\"1766-01-01T00:00:00\",\"1767-01-01T00:00:00\",\"1768-01-01T00:00:00\",\"1769-01-01T00:00:00\",\"1770-01-01T00:00:00\",\"1771-01-01T00:00:00\",\"1772-01-01T00:00:00\",\"1773-01-01T00:00:00\",\"1774-01-01T00:00:00\",\"1775-01-01T00:00:00\",\"1776-01-01T00:00:00\",\"1777-01-01T00:00:00\",\"1778-01-01T00:00:00\",\"1779-01-01T00:00:00\",\"1780-01-01T00:00:00\",\"1781-01-01T00:00:00\",\"1782-01-01T00:00:00\",\"1783-01-01T00:00:00\",\"1784-01-01T00:00:00\",\"1785-01-01T00:00:00\",\"1786-01-01T00:00:00\",\"1787-01-01T00:00:00\",\"1788-01-01T00:00:00\",\"1789-01-01T00:00:00\",\"1790-01-01T00:00:00\",\"1791-01-01T00:00:00\",\"1792-01-01T00:00:00\",\"1793-01-01T00:00:00\",\"1794-01-01T00:00:00\",\"1795-01-01T00:00:00\",\"1796-01-01T00:00:00\",\"1797-01-01T00:00:00\",\"1798-01-01T00:00:00\",\"1799-01-01T00:00:00\",\"1800-01-01T00:00:00\",\"1801-01-01T00:00:00\",\"1802-01-01T00:00:00\",\"1803-01-01T00:00:00\",\"1804-01-01T00:00:00\",\"1805-01-01T00:00:00\",\"1806-01-01T00:00:00\",\"1807-01-01T00:00:00\",\"1808-01-01T00:00:00\",\"1809-01-01T00:00:00\",\"1810-01-01T00:00:00\",\"1811-01-01T00:00:00\",\"1812-01-01T00:00:00\",\"1813-01-01T00:00:00\",\"1814-01-01T00:00:00\",\"1815-01-01T00:00:00\",\"1816-01-01T00:00:00\",\"1817-01-01T00:00:00\",\"1818-01-01T00:00:00\",\"1819-01-01T00:00:00\",\"1820-01-01T00:00:00\",\"1821-01-01T00:00:00\",\"1822-01-01T00:00:00\",\"1823-01-01T00:00:00\",\"1824-01-01T00:00:00\",\"1825-01-01T00:00:00\",\"1826-01-01T00:00:00\",\"1827-01-01T00:00:00\",\"1828-01-01T00:00:00\",\"1829-01-01T00:00:00\",\"1830-01-01T00:00:00\",\"1831-01-01T00:00:00\",\"1832-01-01T00:00:00\",\"1833-01-01T00:00:00\",\"1834-01-01T00:00:00\",\"1835-01-01T00:00:00\",\"1836-01-01T00:00:00\",\"1837-01-01T00:00:00\",\"1838-01-01T00:00:00\",\"1839-01-01T00:00:00\",\"1840-01-01T00:00:00\",\"1841-01-01T00:00:00\",\"1842-01-01T00:00:00\",\"1843-01-01T00:00:00\",\"1844-01-01T00:00:00\",\"1845-01-01T00:00:00\",\"1846-01-01T00:00:00\",\"1847-01-01T00:00:00\",\"1848-01-01T00:00:00\",\"1849-01-01T00:00:00\",\"1850-01-01T00:00:00\",\"1851-01-01T00:00:00\",\"1852-01-01T00:00:00\",\"1853-01-01T00:00:00\",\"1854-01-01T00:00:00\",\"1855-01-01T00:00:00\",\"1856-01-01T00:00:00\",\"1857-01-01T00:00:00\",\"1858-01-01T00:00:00\",\"1859-01-01T00:00:00\",\"1860-01-01T00:00:00\",\"1861-01-01T00:00:00\",\"1862-01-01T00:00:00\",\"1863-01-01T00:00:00\",\"1864-01-01T00:00:00\",\"1865-01-01T00:00:00\",\"1866-01-01T00:00:00\",\"1867-01-01T00:00:00\",\"1868-01-01T00:00:00\",\"1869-01-01T00:00:00\",\"1870-01-01T00:00:00\",\"1871-01-01T00:00:00\",\"1872-01-01T00:00:00\",\"1873-01-01T00:00:00\",\"1874-01-01T00:00:00\",\"1875-01-01T00:00:00\",\"1876-01-01T00:00:00\",\"1877-01-01T00:00:00\",\"1878-01-01T00:00:00\",\"1879-01-01T00:00:00\",\"1880-01-01T00:00:00\",\"1881-01-01T00:00:00\",\"1882-01-01T00:00:00\",\"1883-01-01T00:00:00\",\"1884-01-01T00:00:00\",\"1885-01-01T00:00:00\",\"1886-01-01T00:00:00\",\"1887-01-01T00:00:00\",\"1888-01-01T00:00:00\",\"1889-01-01T00:00:00\",\"1890-01-01T00:00:00\",\"1891-01-01T00:00:00\",\"1892-01-01T00:00:00\",\"1893-01-01T00:00:00\",\"1894-01-01T00:00:00\",\"1895-01-01T00:00:00\",\"1896-01-01T00:00:00\",\"1897-01-01T00:00:00\",\"1898-01-01T00:00:00\",\"1899-01-01T00:00:00\",\"1900-01-01T00:00:00\",\"1901-01-01T00:00:00\",\"1902-01-01T00:00:00\",\"1903-01-01T00:00:00\",\"1904-01-01T00:00:00\",\"1905-01-01T00:00:00\",\"1906-01-01T00:00:00\",\"1907-01-01T00:00:00\",\"1908-01-01T00:00:00\",\"1909-01-01T00:00:00\",\"1910-01-01T00:00:00\",\"1911-01-01T00:00:00\",\"1912-01-01T00:00:00\",\"1913-01-01T00:00:00\",\"1914-01-01T00:00:00\",\"1915-01-01T00:00:00\",\"1916-01-01T00:00:00\",\"1917-01-01T00:00:00\",\"1918-01-01T00:00:00\",\"1919-01-01T00:00:00\",\"1920-01-01T00:00:00\",\"1921-01-01T00:00:00\",\"1922-01-01T00:00:00\",\"1923-01-01T00:00:00\",\"1924-01-01T00:00:00\",\"1925-01-01T00:00:00\",\"1926-01-01T00:00:00\",\"1927-01-01T00:00:00\",\"1928-01-01T00:00:00\",\"1929-01-01T00:00:00\",\"1930-01-01T00:00:00\",\"1931-01-01T00:00:00\",\"1932-01-01T00:00:00\",\"1933-01-01T00:00:00\",\"1934-01-01T00:00:00\",\"1935-01-01T00:00:00\",\"1936-01-01T00:00:00\",\"1937-01-01T00:00:00\",\"1938-01-01T00:00:00\",\"1939-01-01T00:00:00\",\"1940-01-01T00:00:00\",\"1941-01-01T00:00:00\",\"1942-01-01T00:00:00\",\"1943-01-01T00:00:00\",\"1944-01-01T00:00:00\",\"1945-01-01T00:00:00\",\"1946-01-01T00:00:00\",\"1947-01-01T00:00:00\",\"1948-01-01T00:00:00\",\"1949-01-01T00:00:00\",\"1950-01-01T00:00:00\",\"1951-01-01T00:00:00\",\"1952-01-01T00:00:00\",\"1953-01-01T00:00:00\",\"1954-01-01T00:00:00\",\"1955-01-01T00:00:00\",\"1956-01-01T00:00:00\",\"1957-01-01T00:00:00\",\"1958-01-01T00:00:00\",\"1959-01-01T00:00:00\",\"1960-01-01T00:00:00\",\"1961-01-01T00:00:00\",\"1962-01-01T00:00:00\",\"1963-01-01T00:00:00\",\"1964-01-01T00:00:00\",\"1965-01-01T00:00:00\",\"1966-01-01T00:00:00\",\"1967-01-01T00:00:00\",\"1968-01-01T00:00:00\",\"1969-01-01T00:00:00\",\"1970-01-01T00:00:00\",\"1971-01-01T00:00:00\",\"1972-01-01T00:00:00\",\"1973-01-01T00:00:00\",\"1974-01-01T00:00:00\",\"1975-01-01T00:00:00\",\"1976-01-01T00:00:00\",\"1977-01-01T00:00:00\",\"1978-01-01T00:00:00\",\"1979-01-01T00:00:00\",\"1980-01-01T00:00:00\",\"1981-01-01T00:00:00\",\"1982-01-01T00:00:00\",\"1983-01-01T00:00:00\",\"1984-01-01T00:00:00\",\"1985-01-01T00:00:00\",\"1986-01-01T00:00:00\",\"1987-01-01T00:00:00\",\"1988-01-01T00:00:00\",\"1989-01-01T00:00:00\",\"1990-01-01T00:00:00\",\"1991-01-01T00:00:00\",\"1992-01-01T00:00:00\",\"1993-01-01T00:00:00\",\"1994-01-01T00:00:00\",\"1995-01-01T00:00:00\",\"1996-01-01T00:00:00\",\"1997-01-01T00:00:00\",\"1998-01-01T00:00:00\",\"1999-01-01T00:00:00\",\"2000-01-01T00:00:00\",\"2001-01-01T00:00:00\",\"2002-01-01T00:00:00\",\"2003-01-01T00:00:00\",\"2004-01-01T00:00:00\",\"2005-01-01T00:00:00\",\"2006-01-01T00:00:00\",\"2007-01-01T00:00:00\",\"2008-01-01T00:00:00\",\"2009-01-01T00:00:00\",\"2010-01-01T00:00:00\",\"2011-01-01T00:00:00\",\"2012-01-01T00:00:00\",\"2013-01-01T00:00:00\",\"2014-01-01T00:00:00\",\"2015-01-01T00:00:00\",\"2016-01-01T00:00:00\",\"2017-01-01T00:00:00\",\"2018-01-01T00:00:00\",\"2019-01-01T00:00:00\",\"2020-01-01T00:00:00\",\"2021-01-01T00:00:00\",\"2022-01-01T00:00:00\",\"2023-01-01T00:00:00\"],\"y\":[29.368286358783628,8.244141528472317,2.155577862881954,-42.882823655874724,-51.03688920711911,-50.662565907543645,-54.524310149328706,-4.756201626446037,-13.794621320187018,2.207395919171475,36.0798957644384,-25.38940603641408,-4.460200671965935,-6.937268425924596,-18.62559504335911,-26.72630017658273,-62.32830304770077,-50.690477123369455,-17.96845431269748,2.588366033598606,42.147002359786825,61.09291070028044,40.55228180096151,-39.955400920281015,-37.07405816497434,-50.176506079959125,-42.8828236548916,-28.891764131714137,-16.348247956992097,2.3527989444442428,-4.756201627512919,-6.681997485916049,-7.087179756838843,-18.789353598665752,-25.389406035657508,-29.925087188852263,-32.31334510085586,-15.415116677201706,-26.72630017624819,21.29626991814183,-7.611652458731899,-13.581050383987371,2.5883660338245122,-0.24985480374502264,-17.644631710382747,-39.862240829494,-39.95540092094787,-58.35491408352267,-58.314653529487266,-60.48147044113887,-28.89176413163743,-16.3482479560073,2.3527989441963832,-4.756201627286398,-13.794621319242276,-7.087179756306088,-18.789353599445253,-25.38940603610941,-4.460200671948382,-32.313345099689926,-15.415116676666289,-26.72630017706043,-62.32830304786607,-7.611652458023023,-13.581050383766664,2.5883660334089855,42.14700235960552,-17.644631710219002,-39.86224082984303,-39.9554009203321,-37.074058165219924,-58.31465352968776,-60.48147044139402,-28.891764132078748,-16.348247956913617,2.407795299276144,-30.761118584938867,-6.681997486002518,-7.087179756988761,-8.110492938204024,3.387365611226377,-29.925087188997395,-32.31334510026847,-62.69289347457543,-54.66630846436687,21.29626991738907,-7.6116524588347705,47.562533578456495,34.80603135839297,-0.24985480342454897,-17.644631711109984,-28.07663725697154,-44.52416566724091,-58.354914083812766,-58.31465352933687,-31.49887276184516,-7.690547427222698,29.160689277323012,2.407795299224403,28.194106219057822,-3.0179608835094194,-5.220771142938944,-8.110492938549132,-46.045028304096185,-49.38557500409742,-63.37466355699789,-62.692893474654646,-46.384610222886245,-24.535229422995712,23.201012082605164,47.56253357847328,-5.720494010740104,-19.55685426204503,-26.964541168017682,-28.076637257151148,-59.352636858625516,-63.84024083101674,-64.0461511366004,-31.49887276247185,-9.325436006656414,23.857344442515394,39.305267379744194,28.19410621910755,-17.342708301584118,-33.479409632130036,-55.21139188563247,-46.04502830449027,-65.71191272905732,-67.44984032121727,-68.44824263199614,-46.38461022270604,-13.715505349595679,-8.493809378420465,-15.609391171998714,-5.720494010917203,-39.095067893407425,-49.098992080459205,-58.9435157194406,-59.35263685873258,-55.022489399291075,-46.92070828685038,-52.61591005651057,-9.325436006810065,2.1555778624327626,6.470656830895077,-3.3281150977819642,-17.342708301140327,-54.52431014885029,-56.360288028355704,-62.91579042238974,-65.71191272902873,-67.44984032168229,-68.44824263172023,-46.38461022298444,-24.535229423507587,-8.493809378587862,-15.609391171630726,-5.720494011008938,-19.556854262370567,-49.09899208053765,-58.94351571956585,-59.352636858751346,-63.84024083126483,-46.92070828682397,-52.6159100563071,-9.325436006690733,23.857344442675267,6.470656830465094,-3.328115098328083,-17.342708301339545,-33.47940963277358,-56.36028802834964,-62.91579042232651,-65.7119127292774,-67.4498403215064,11.497558575724948,-13.835068546426285,-13.715505349517091,-8.49380937861141,-31.036032062753442,-42.43116940194572,-39.09506789330548,-49.09899208047991,-5.953740208249039,-69.82851784481987,-55.02248939890257,-46.92070828675105,29.368286358615933,8.24414152858751,2.155577862418063,6.470656830242827,-51.03688920722855,-50.66256590746726,-54.52431014893676,-56.36028802822553,-13.794621319626778,2.207395919380359,36.0798957647383,11.497558575665957,-4.460200671967642,-6.93726842537896,-18.625595044011437,-31.036032062587182,-62.32830304759687,-50.690477122880395,-17.968454312307585,-5.953740208044502,42.14700235991716,61.0929107001816,40.552281801252875,29.368286358606138,-37.07405816501282,-50.176506079969926,-42.88282365598034,-51.03688920716109,-16.348247956373445,2.352798944393608,-4.756201627047368,-13.794621319615764,-7.087179756748818,-18.789353599110004,-25.389406036008452,-4.460200671897684,-32.313345099947846,-15.415116677221988,-26.72630017690627,-62.32830304756286,-7.611652457986241,-13.581050383832682,2.588366033553699,42.147002359925224,-17.644631710786534,-39.862240829707275,-39.955400920491435,-37.07405816509021,-58.314653529598445,-60.481470441755405,-28.891764131755863,-16.34824795636007,2.407795299357115,-30.761118585087026,-6.681997485554966,-7.087179756792009,-8.110492938639561,3.3873656112945065,-29.92508718921947,-32.31334510001417,-62.692893474771175,-54.66630846414807,21.29626991729678,-7.611652457923461,47.562533578570466,34.80603135809581,-0.24985480367141336,-17.644631710772856,-28.076637257520325,-44.5241656673616,-58.35491408384698,-58.31465352973091,-31.4988727618953,-7.690547426893001,29.160689277292025,2.4077952994356577,28.194106219231344,-3.0179608837071457,-5.220771143299434,-8.110492938515002,-46.045028304500136,-49.38557500399148,-63.37466355695752,-62.69289347477602,-46.38461022278132,-24.535229423440256,23.201012082719128],\"type\":\"scatter\"},{\"mode\":\"lines\",\"name\":\"trend\",\"x\":[\"1750-01-01T00:00:00\",\"1751-01-01T00:00:00\",\"1752-01-01T00:00:00\",\"1753-01-01T00:00:00\",\"1754-01-01T00:00:00\",\"1755-01-01T00:00:00\",\"1756-01-01T00:00:00\",\"1757-01-01T00:00:00\",\"1758-01-01T00:00:00\",\"1759-01-01T00:00:00\",\"1760-01-01T00:00:00\",\"1761-01-01T00:00:00\",\"1762-01-01T00:00:00\",\"1763-01-01T00:00:00\",\"1764-01-01T00:00:00\",\"1765-01-01T00:00:00\",\"1766-01-01T00:00:00\",\"1767-01-01T00:00:00\",\"1768-01-01T00:00:00\",\"1769-01-01T00:00:00\",\"1770-01-01T00:00:00\",\"1771-01-01T00:00:00\",\"1772-01-01T00:00:00\",\"1773-01-01T00:00:00\",\"1774-01-01T00:00:00\",\"1775-01-01T00:00:00\",\"1776-01-01T00:00:00\",\"1777-01-01T00:00:00\",\"1778-01-01T00:00:00\",\"1779-01-01T00:00:00\",\"1780-01-01T00:00:00\",\"1781-01-01T00:00:00\",\"1782-01-01T00:00:00\",\"1783-01-01T00:00:00\",\"1784-01-01T00:00:00\",\"1785-01-01T00:00:00\",\"1786-01-01T00:00:00\",\"1787-01-01T00:00:00\",\"1788-01-01T00:00:00\",\"1789-01-01T00:00:00\",\"1790-01-01T00:00:00\",\"1791-01-01T00:00:00\",\"1792-01-01T00:00:00\",\"1793-01-01T00:00:00\",\"1794-01-01T00:00:00\",\"1795-01-01T00:00:00\",\"1796-01-01T00:00:00\",\"1797-01-01T00:00:00\",\"1798-01-01T00:00:00\",\"1799-01-01T00:00:00\",\"1800-01-01T00:00:00\",\"1801-01-01T00:00:00\",\"1802-01-01T00:00:00\",\"1803-01-01T00:00:00\",\"1804-01-01T00:00:00\",\"1805-01-01T00:00:00\",\"1806-01-01T00:00:00\",\"1807-01-01T00:00:00\",\"1808-01-01T00:00:00\",\"1809-01-01T00:00:00\",\"1810-01-01T00:00:00\",\"1811-01-01T00:00:00\",\"1812-01-01T00:00:00\",\"1813-01-01T00:00:00\",\"1814-01-01T00:00:00\",\"1815-01-01T00:00:00\",\"1816-01-01T00:00:00\",\"1817-01-01T00:00:00\",\"1818-01-01T00:00:00\",\"1819-01-01T00:00:00\",\"1820-01-01T00:00:00\",\"1821-01-01T00:00:00\",\"1822-01-01T00:00:00\",\"1823-01-01T00:00:00\",\"1824-01-01T00:00:00\",\"1825-01-01T00:00:00\",\"1826-01-01T00:00:00\",\"1827-01-01T00:00:00\",\"1828-01-01T00:00:00\",\"1829-01-01T00:00:00\",\"1830-01-01T00:00:00\",\"1831-01-01T00:00:00\",\"1832-01-01T00:00:00\",\"1833-01-01T00:00:00\",\"1834-01-01T00:00:00\",\"1835-01-01T00:00:00\",\"1836-01-01T00:00:00\",\"1837-01-01T00:00:00\",\"1838-01-01T00:00:00\",\"1839-01-01T00:00:00\",\"1840-01-01T00:00:00\",\"1841-01-01T00:00:00\",\"1842-01-01T00:00:00\",\"1843-01-01T00:00:00\",\"1844-01-01T00:00:00\",\"1845-01-01T00:00:00\",\"1846-01-01T00:00:00\",\"1847-01-01T00:00:00\",\"1848-01-01T00:00:00\",\"1849-01-01T00:00:00\",\"1850-01-01T00:00:00\",\"1851-01-01T00:00:00\",\"1852-01-01T00:00:00\",\"1853-01-01T00:00:00\",\"1854-01-01T00:00:00\",\"1855-01-01T00:00:00\",\"1856-01-01T00:00:00\",\"1857-01-01T00:00:00\",\"1858-01-01T00:00:00\",\"1859-01-01T00:00:00\",\"1860-01-01T00:00:00\",\"1861-01-01T00:00:00\",\"1862-01-01T00:00:00\",\"1863-01-01T00:00:00\",\"1864-01-01T00:00:00\",\"1865-01-01T00:00:00\",\"1866-01-01T00:00:00\",\"1867-01-01T00:00:00\",\"1868-01-01T00:00:00\",\"1869-01-01T00:00:00\",\"1870-01-01T00:00:00\",\"1871-01-01T00:00:00\",\"1872-01-01T00:00:00\",\"1873-01-01T00:00:00\",\"1874-01-01T00:00:00\",\"1875-01-01T00:00:00\",\"1876-01-01T00:00:00\",\"1877-01-01T00:00:00\",\"1878-01-01T00:00:00\",\"1879-01-01T00:00:00\",\"1880-01-01T00:00:00\",\"1881-01-01T00:00:00\",\"1882-01-01T00:00:00\",\"1883-01-01T00:00:00\",\"1884-01-01T00:00:00\",\"1885-01-01T00:00:00\",\"1886-01-01T00:00:00\",\"1887-01-01T00:00:00\",\"1888-01-01T00:00:00\",\"1889-01-01T00:00:00\",\"1890-01-01T00:00:00\",\"1891-01-01T00:00:00\",\"1892-01-01T00:00:00\",\"1893-01-01T00:00:00\",\"1894-01-01T00:00:00\",\"1895-01-01T00:00:00\",\"1896-01-01T00:00:00\",\"1897-01-01T00:00:00\",\"1898-01-01T00:00:00\",\"1899-01-01T00:00:00\",\"1900-01-01T00:00:00\",\"1901-01-01T00:00:00\",\"1902-01-01T00:00:00\",\"1903-01-01T00:00:00\",\"1904-01-01T00:00:00\",\"1905-01-01T00:00:00\",\"1906-01-01T00:00:00\",\"1907-01-01T00:00:00\",\"1908-01-01T00:00:00\",\"1909-01-01T00:00:00\",\"1910-01-01T00:00:00\",\"1911-01-01T00:00:00\",\"1912-01-01T00:00:00\",\"1913-01-01T00:00:00\",\"1914-01-01T00:00:00\",\"1915-01-01T00:00:00\",\"1916-01-01T00:00:00\",\"1917-01-01T00:00:00\",\"1918-01-01T00:00:00\",\"1919-01-01T00:00:00\",\"1920-01-01T00:00:00\",\"1921-01-01T00:00:00\",\"1922-01-01T00:00:00\",\"1923-01-01T00:00:00\",\"1924-01-01T00:00:00\",\"1925-01-01T00:00:00\",\"1926-01-01T00:00:00\",\"1927-01-01T00:00:00\",\"1928-01-01T00:00:00\",\"1929-01-01T00:00:00\",\"1930-01-01T00:00:00\",\"1931-01-01T00:00:00\",\"1932-01-01T00:00:00\",\"1933-01-01T00:00:00\",\"1934-01-01T00:00:00\",\"1935-01-01T00:00:00\",\"1936-01-01T00:00:00\",\"1937-01-01T00:00:00\",\"1938-01-01T00:00:00\",\"1939-01-01T00:00:00\",\"1940-01-01T00:00:00\",\"1941-01-01T00:00:00\",\"1942-01-01T00:00:00\",\"1943-01-01T00:00:00\",\"1944-01-01T00:00:00\",\"1945-01-01T00:00:00\",\"1946-01-01T00:00:00\",\"1947-01-01T00:00:00\",\"1948-01-01T00:00:00\",\"1949-01-01T00:00:00\",\"1950-01-01T00:00:00\",\"1951-01-01T00:00:00\",\"1952-01-01T00:00:00\",\"1953-01-01T00:00:00\",\"1954-01-01T00:00:00\",\"1955-01-01T00:00:00\",\"1956-01-01T00:00:00\",\"1957-01-01T00:00:00\",\"1958-01-01T00:00:00\",\"1959-01-01T00:00:00\",\"1960-01-01T00:00:00\",\"1961-01-01T00:00:00\",\"1962-01-01T00:00:00\",\"1963-01-01T00:00:00\",\"1964-01-01T00:00:00\",\"1965-01-01T00:00:00\",\"1966-01-01T00:00:00\",\"1967-01-01T00:00:00\",\"1968-01-01T00:00:00\",\"1969-01-01T00:00:00\",\"1970-01-01T00:00:00\",\"1971-01-01T00:00:00\",\"1972-01-01T00:00:00\",\"1973-01-01T00:00:00\",\"1974-01-01T00:00:00\",\"1975-01-01T00:00:00\",\"1976-01-01T00:00:00\",\"1977-01-01T00:00:00\",\"1978-01-01T00:00:00\",\"1979-01-01T00:00:00\",\"1980-01-01T00:00:00\",\"1981-01-01T00:00:00\",\"1982-01-01T00:00:00\",\"1983-01-01T00:00:00\",\"1984-01-01T00:00:00\",\"1985-01-01T00:00:00\",\"1986-01-01T00:00:00\",\"1987-01-01T00:00:00\",\"1988-01-01T00:00:00\",\"1989-01-01T00:00:00\",\"1990-01-01T00:00:00\",\"1991-01-01T00:00:00\",\"1992-01-01T00:00:00\",\"1993-01-01T00:00:00\",\"1994-01-01T00:00:00\",\"1995-01-01T00:00:00\",\"1996-01-01T00:00:00\",\"1997-01-01T00:00:00\",\"1998-01-01T00:00:00\",\"1999-01-01T00:00:00\",\"2000-01-01T00:00:00\",\"2001-01-01T00:00:00\",\"2002-01-01T00:00:00\",\"2003-01-01T00:00:00\",\"2004-01-01T00:00:00\",\"2005-01-01T00:00:00\",\"2006-01-01T00:00:00\",\"2007-01-01T00:00:00\",\"2008-01-01T00:00:00\",\"2009-01-01T00:00:00\",\"2010-01-01T00:00:00\",\"2011-01-01T00:00:00\",\"2012-01-01T00:00:00\",\"2013-01-01T00:00:00\",\"2014-01-01T00:00:00\",\"2015-01-01T00:00:00\",\"2016-01-01T00:00:00\",\"2017-01-01T00:00:00\",\"2018-01-01T00:00:00\",\"2019-01-01T00:00:00\",\"2020-01-01T00:00:00\",\"2021-01-01T00:00:00\",\"2022-01-01T00:00:00\",\"2023-01-01T00:00:00\"],\"y\":[61.761553799999994,61.827614734353645,61.89367566870728,61.95991759192218,62.02597852627582,62.09203946062947,62.15810039498312,62.22434231819801,62.29040325288664,62.35646418757526,62.4225251222639,62.48876704581469,62.55482798050331,62.62088891519195,62.68694984988058,62.75319177343136,62.81925270926889,62.8853136451064,62.95137458094393,63.01761650564675,63.08367744148428,63.14973837732179,63.2157993131593,63.282041236311024,63.34810217060166,63.4141631048923,63.48022403918294,63.54646596233464,63.61252689662528,63.67858783091592,63.74464876545045,63.810890688846705,63.87695162338123,63.94301255791576,64.00907349245027,64.07531541584653,64.14137635038105,64.20743729062872,64.2734982308764,64.33974016000144,64.40580110024912,64.47186204049677,64.53792298074444,64.6041649098695,64.67022585011716,64.73642154142905,64.80261723274097,64.86899428211125,64.93518997342315,65.00138566473504,65.06758135604694,65.13377704735883,65.19998572842057,65.26619440948228,65.332403090544,65.39879316525248,65.46500184631421,65.53121052737593,65.59741920843766,65.67483270368963,65.7520346866595,65.82923666962935,65.9064386525992,65.98385214785118,66.06105413082105,66.13825611379092,66.21545809676077,66.3081742076424,66.4006369958167,66.49309978399101,66.5855625721653,66.67827868304694,66.77074147122124,66.86320425939554,66.96686484616846,67.07080943454899,67.17447002132191,67.27813060809483,67.38179119486776,67.48573578324827,67.5893963700212,67.69506670158248,67.80073703314375,67.90669687246273,68.012367204024,68.11803753558529,68.22370786714654,68.32966770646553,68.43533804264754,68.54100837882955,68.64667871501156,68.75263855896392,68.85830889514594,68.96397923132794,69.06964956750996,69.17560941146232,69.28127974987562,69.38695008828893,69.49262042670223,69.59858027289202,69.70425061130533,69.80992094971863,69.91559128813194,70.02155113835283,70.12722148078623,70.23289182321963,70.33856216565304,70.44452201587394,70.55019235830734,70.65586270074074,70.76153304184349,70.8674928907301,70.97316323183287,71.07883357293562,71.18450391403837,71.29046376292499,71.39613410402774,71.50180444722652,71.6074747904253,71.71343464141368,71.81910498461247,71.92477532781125,72.03044567101004,72.13640552199841,72.24207586519721,72.34774620869453,72.45341655219184,72.55937640347958,72.6650467469769,72.77071709047421,72.87638743397153,72.98234728525925,73.08801762709489,73.19368796893052,73.29935831076615,73.40531816038764,73.51098850222328,73.61665884405892,73.72232918589455,73.82828903533438,73.93395937698887,74.03962971864334,74.14530006029781,74.25125990973764,74.35693025139213,74.4626005930466,74.56827093470109,74.67423078417836,74.77990112587018,74.885571467562,74.99124180925382,75.09691215094566,75.20258249263748,75.3082528343293,75.41392317875024,75.51988303096411,75.62555337538504,75.73122371980598,75.83689406422693,75.94285391644081,76.04852426086175,76.15419460619307,76.25986495152438,76.36582480465113,76.47149514998243,76.57716549531375,76.68283584064505,76.78879569377179,76.89446604131822,77.00013638886466,77.10580673641108,77.21176659175902,77.31743693930544,77.42310728685186,77.5287776343983,77.63473748974623,77.7404078369202,77.84607818409418,77.95174853126815,78.0577083862426,78.16337873341658,78.26904908059055,78.37471942776452,78.48067928098267,78.58634962640512,78.69201997182759,78.79769031725004,78.9036501704682,79.00932051589065,79.11499086131312,79.22066120673558,79.32662105995372,79.43229140537619,79.53796175079864,79.64363209622111,79.74959194943925,79.85526229486172,79.96093264028418,80.06660298570664,80.17256283892479,80.27823318434724,80.38390352976971,80.48957387519218,80.59553372841032,80.70120407383278,80.80687441925525,80.9125447646777,81.01850461789584,81.12417496331831,81.22984530874078,81.33551565416325,81.44147550738138,81.54714585280384,81.6528161982263,81.75848654364877,81.86444639686691,81.97011674228936,82.07578708771183,82.1814574331343,82.28741728635244,82.3930876317749,82.49875797719736,82.60442832261982,82.71038817583796,82.81605852126043,82.92172886668288,83.02739921210535,83.13335906532349,83.23902941074596,83.34469975616842,83.45037010159089,83.55632995480903,83.6620003002315,83.76767064565395,83.87334099107642,83.97930084429456,84.08497118971702,84.19064153513949,84.29631188056196,84.4022717337801,84.50794207920256,84.61361242462502,84.71928277004749,84.82524262326562,84.93091296868808,85.03658331411054,85.14225365953301,85.24821351275115,85.35388385817362,85.45955420359607,85.56522454901854,85.67118440223668,85.77685474765914,85.8825250930816,85.98819543850406,86.0941552917222,86.19982563714467,86.30549598256714,86.4111663279896,86.51712618120774,86.62279652663021,86.72846687205266,86.83413721747513,86.94009707069327,87.04576741611574,87.1514377615382,87.25710810696067,87.36306796017881,87.46873830560128,87.57440865102373,87.6800789964462,87.78603884966434,87.8917091950868,87.99737954050926],\"type\":\"scatter\"}],                        {\"template\":{\"data\":{\"bar\":[{\"error_x\":{\"color\":\"#2a3f5f\"},\"error_y\":{\"color\":\"#2a3f5f\"},\"marker\":{\"line\":{\"color\":\"#E5ECF6\",\"width\":0.5},\"pattern\":{\"fillmode\":\"overlay\",\"size\":10,\"solidity\":0.2}},\"type\":\"bar\"}],\"barpolar\":[{\"marker\":{\"line\":{\"color\":\"#E5ECF6\",\"width\":0.5},\"pattern\":{\"fillmode\":\"overlay\",\"size\":10,\"solidity\":0.2}},\"type\":\"barpolar\"}],\"carpet\":[{\"aaxis\":{\"endlinecolor\":\"#2a3f5f\",\"gridcolor\":\"white\",\"linecolor\":\"white\",\"minorgridcolor\":\"white\",\"startlinecolor\":\"#2a3f5f\"},\"baxis\":{\"endlinecolor\":\"#2a3f5f\",\"gridcolor\":\"white\",\"linecolor\":\"white\",\"minorgridcolor\":\"white\",\"startlinecolor\":\"#2a3f5f\"},\"type\":\"carpet\"}],\"choropleth\":[{\"colorbar\":{\"outlinewidth\":0,\"ticks\":\"\"},\"type\":\"choropleth\"}],\"contour\":[{\"colorbar\":{\"outlinewidth\":0,\"ticks\":\"\"},\"colorscale\":[[0.0,\"#0d0887\"],[0.1111111111111111,\"#46039f\"],[0.2222222222222222,\"#7201a8\"],[0.3333333333333333,\"#9c179e\"],[0.4444444444444444,\"#bd3786\"],[0.5555555555555556,\"#d8576b\"],[0.6666666666666666,\"#ed7953\"],[0.7777777777777778,\"#fb9f3a\"],[0.8888888888888888,\"#fdca26\"],[1.0,\"#f0f921\"]],\"type\":\"contour\"}],\"contourcarpet\":[{\"colorbar\":{\"outlinewidth\":0,\"ticks\":\"\"},\"type\":\"contourcarpet\"}],\"heatmap\":[{\"colorbar\":{\"outlinewidth\":0,\"ticks\":\"\"},\"colorscale\":[[0.0,\"#0d0887\"],[0.1111111111111111,\"#46039f\"],[0.2222222222222222,\"#7201a8\"],[0.3333333333333333,\"#9c179e\"],[0.4444444444444444,\"#bd3786\"],[0.5555555555555556,\"#d8576b\"],[0.6666666666666666,\"#ed7953\"],[0.7777777777777778,\"#fb9f3a\"],[0.8888888888888888,\"#fdca26\"],[1.0,\"#f0f921\"]],\"type\":\"heatmap\"}],\"heatmapgl\":[{\"colorbar\":{\"outlinewidth\":0,\"ticks\":\"\"},\"colorscale\":[[0.0,\"#0d0887\"],[0.1111111111111111,\"#46039f\"],[0.2222222222222222,\"#7201a8\"],[0.3333333333333333,\"#9c179e\"],[0.4444444444444444,\"#bd3786\"],[0.5555555555555556,\"#d8576b\"],[0.6666666666666666,\"#ed7953\"],[0.7777777777777778,\"#fb9f3a\"],[0.8888888888888888,\"#fdca26\"],[1.0,\"#f0f921\"]],\"type\":\"heatmapgl\"}],\"histogram\":[{\"marker\":{\"pattern\":{\"fillmode\":\"overlay\",\"size\":10,\"solidity\":0.2}},\"type\":\"histogram\"}],\"histogram2d\":[{\"colorbar\":{\"outlinewidth\":0,\"ticks\":\"\"},\"colorscale\":[[0.0,\"#0d0887\"],[0.1111111111111111,\"#46039f\"],[0.2222222222222222,\"#7201a8\"],[0.3333333333333333,\"#9c179e\"],[0.4444444444444444,\"#bd3786\"],[0.5555555555555556,\"#d8576b\"],[0.6666666666666666,\"#ed7953\"],[0.7777777777777778,\"#fb9f3a\"],[0.8888888888888888,\"#fdca26\"],[1.0,\"#f0f921\"]],\"type\":\"histogram2d\"}],\"histogram2dcontour\":[{\"colorbar\":{\"outlinewidth\":0,\"ticks\":\"\"},\"colorscale\":[[0.0,\"#0d0887\"],[0.1111111111111111,\"#46039f\"],[0.2222222222222222,\"#7201a8\"],[0.3333333333333333,\"#9c179e\"],[0.4444444444444444,\"#bd3786\"],[0.5555555555555556,\"#d8576b\"],[0.6666666666666666,\"#ed7953\"],[0.7777777777777778,\"#fb9f3a\"],[0.8888888888888888,\"#fdca26\"],[1.0,\"#f0f921\"]],\"type\":\"histogram2dcontour\"}],\"mesh3d\":[{\"colorbar\":{\"outlinewidth\":0,\"ticks\":\"\"},\"type\":\"mesh3d\"}],\"parcoords\":[{\"line\":{\"colorbar\":{\"outlinewidth\":0,\"ticks\":\"\"}},\"type\":\"parcoords\"}],\"pie\":[{\"automargin\":true,\"type\":\"pie\"}],\"scatter\":[{\"marker\":{\"colorbar\":{\"outlinewidth\":0,\"ticks\":\"\"}},\"type\":\"scatter\"}],\"scatter3d\":[{\"line\":{\"colorbar\":{\"outlinewidth\":0,\"ticks\":\"\"}},\"marker\":{\"colorbar\":{\"outlinewidth\":0,\"ticks\":\"\"}},\"type\":\"scatter3d\"}],\"scattercarpet\":[{\"marker\":{\"colorbar\":{\"outlinewidth\":0,\"ticks\":\"\"}},\"type\":\"scattercarpet\"}],\"scattergeo\":[{\"marker\":{\"colorbar\":{\"outlinewidth\":0,\"ticks\":\"\"}},\"type\":\"scattergeo\"}],\"scattergl\":[{\"marker\":{\"colorbar\":{\"outlinewidth\":0,\"ticks\":\"\"}},\"type\":\"scattergl\"}],\"scattermapbox\":[{\"marker\":{\"colorbar\":{\"outlinewidth\":0,\"ticks\":\"\"}},\"type\":\"scattermapbox\"}],\"scatterpolar\":[{\"marker\":{\"colorbar\":{\"outlinewidth\":0,\"ticks\":\"\"}},\"type\":\"scatterpolar\"}],\"scatterpolargl\":[{\"marker\":{\"colorbar\":{\"outlinewidth\":0,\"ticks\":\"\"}},\"type\":\"scatterpolargl\"}],\"scatterternary\":[{\"marker\":{\"colorbar\":{\"outlinewidth\":0,\"ticks\":\"\"}},\"type\":\"scatterternary\"}],\"surface\":[{\"colorbar\":{\"outlinewidth\":0,\"ticks\":\"\"},\"colorscale\":[[0.0,\"#0d0887\"],[0.1111111111111111,\"#46039f\"],[0.2222222222222222,\"#7201a8\"],[0.3333333333333333,\"#9c179e\"],[0.4444444444444444,\"#bd3786\"],[0.5555555555555556,\"#d8576b\"],[0.6666666666666666,\"#ed7953\"],[0.7777777777777778,\"#fb9f3a\"],[0.8888888888888888,\"#fdca26\"],[1.0,\"#f0f921\"]],\"type\":\"surface\"}],\"table\":[{\"cells\":{\"fill\":{\"color\":\"#EBF0F8\"},\"line\":{\"color\":\"white\"}},\"header\":{\"fill\":{\"color\":\"#C8D4E3\"},\"line\":{\"color\":\"white\"}},\"type\":\"table\"}]},\"layout\":{\"annotationdefaults\":{\"arrowcolor\":\"#2a3f5f\",\"arrowhead\":0,\"arrowwidth\":1},\"autotypenumbers\":\"strict\",\"coloraxis\":{\"colorbar\":{\"outlinewidth\":0,\"ticks\":\"\"}},\"colorscale\":{\"diverging\":[[0,\"#8e0152\"],[0.1,\"#c51b7d\"],[0.2,\"#de77ae\"],[0.3,\"#f1b6da\"],[0.4,\"#fde0ef\"],[0.5,\"#f7f7f7\"],[0.6,\"#e6f5d0\"],[0.7,\"#b8e186\"],[0.8,\"#7fbc41\"],[0.9,\"#4d9221\"],[1,\"#276419\"]],\"sequential\":[[0.0,\"#0d0887\"],[0.1111111111111111,\"#46039f\"],[0.2222222222222222,\"#7201a8\"],[0.3333333333333333,\"#9c179e\"],[0.4444444444444444,\"#bd3786\"],[0.5555555555555556,\"#d8576b\"],[0.6666666666666666,\"#ed7953\"],[0.7777777777777778,\"#fb9f3a\"],[0.8888888888888888,\"#fdca26\"],[1.0,\"#f0f921\"]],\"sequentialminus\":[[0.0,\"#0d0887\"],[0.1111111111111111,\"#46039f\"],[0.2222222222222222,\"#7201a8\"],[0.3333333333333333,\"#9c179e\"],[0.4444444444444444,\"#bd3786\"],[0.5555555555555556,\"#d8576b\"],[0.6666666666666666,\"#ed7953\"],[0.7777777777777778,\"#fb9f3a\"],[0.8888888888888888,\"#fdca26\"],[1.0,\"#f0f921\"]]},\"colorway\":[\"#636efa\",\"#EF553B\",\"#00cc96\",\"#ab63fa\",\"#FFA15A\",\"#19d3f3\",\"#FF6692\",\"#B6E880\",\"#FF97FF\",\"#FECB52\"],\"font\":{\"color\":\"#2a3f5f\"},\"geo\":{\"bgcolor\":\"white\",\"lakecolor\":\"white\",\"landcolor\":\"#E5ECF6\",\"showlakes\":true,\"showland\":true,\"subunitcolor\":\"white\"},\"hoverlabel\":{\"align\":\"left\"},\"hovermode\":\"closest\",\"mapbox\":{\"style\":\"light\"},\"paper_bgcolor\":\"white\",\"plot_bgcolor\":\"#E5ECF6\",\"polar\":{\"angularaxis\":{\"gridcolor\":\"white\",\"linecolor\":\"white\",\"ticks\":\"\"},\"bgcolor\":\"#E5ECF6\",\"radialaxis\":{\"gridcolor\":\"white\",\"linecolor\":\"white\",\"ticks\":\"\"}},\"scene\":{\"xaxis\":{\"backgroundcolor\":\"#E5ECF6\",\"gridcolor\":\"white\",\"gridwidth\":2,\"linecolor\":\"white\",\"showbackground\":true,\"ticks\":\"\",\"zerolinecolor\":\"white\"},\"yaxis\":{\"backgroundcolor\":\"#E5ECF6\",\"gridcolor\":\"white\",\"gridwidth\":2,\"linecolor\":\"white\",\"showbackground\":true,\"ticks\":\"\",\"zerolinecolor\":\"white\"},\"zaxis\":{\"backgroundcolor\":\"#E5ECF6\",\"gridcolor\":\"white\",\"gridwidth\":2,\"linecolor\":\"white\",\"showbackground\":true,\"ticks\":\"\",\"zerolinecolor\":\"white\"}},\"shapedefaults\":{\"line\":{\"color\":\"#2a3f5f\"}},\"ternary\":{\"aaxis\":{\"gridcolor\":\"white\",\"linecolor\":\"white\",\"ticks\":\"\"},\"baxis\":{\"gridcolor\":\"white\",\"linecolor\":\"white\",\"ticks\":\"\"},\"bgcolor\":\"#E5ECF6\",\"caxis\":{\"gridcolor\":\"white\",\"linecolor\":\"white\",\"ticks\":\"\"}},\"title\":{\"x\":0.05},\"xaxis\":{\"automargin\":true,\"gridcolor\":\"white\",\"linecolor\":\"white\",\"ticks\":\"\",\"title\":{\"standoff\":15},\"zerolinecolor\":\"white\",\"zerolinewidth\":2},\"yaxis\":{\"automargin\":true,\"gridcolor\":\"white\",\"linecolor\":\"white\",\"ticks\":\"\",\"title\":{\"standoff\":15},\"zerolinecolor\":\"white\",\"zerolinewidth\":2}}}},                        {\"responsive\": true}                    ).then(function(){\n",
              "                            \n",
              "var gd = document.getElementById('024259a8-d334-45e5-9dce-050df3fd147e');\n",
              "var x = new MutationObserver(function (mutations, observer) {{\n",
              "        var display = window.getComputedStyle(gd).display;\n",
              "        if (!display || display === 'none') {{\n",
              "            console.log([gd, 'removed!']);\n",
              "            Plotly.purge(gd);\n",
              "            observer.disconnect();\n",
              "        }}\n",
              "}});\n",
              "\n",
              "// Listen for the removal of the full notebook cells\n",
              "var notebookContainer = gd.closest('#notebook-container');\n",
              "if (notebookContainer) {{\n",
              "    x.observe(notebookContainer, {childList: true});\n",
              "}}\n",
              "\n",
              "// Listen for the clearing of the current output cell\n",
              "var outputEl = gd.closest('.output');\n",
              "if (outputEl) {{\n",
              "    x.observe(outputEl, {childList: true});\n",
              "}}\n",
              "\n",
              "                        })                };                            </script>        </div>\n",
              "</body>\n",
              "</html>"
            ]
          },
          "metadata": {}
        }
      ]
    },
    {
      "cell_type": "code",
      "source": [],
      "metadata": {
        "id": "WeQTLwkhvPji"
      },
      "execution_count": null,
      "outputs": []
    },
    {
      "cell_type": "code",
      "source": [],
      "metadata": {
        "id": "I6hYWj7tvAAy"
      },
      "execution_count": null,
      "outputs": []
    },
    {
      "cell_type": "code",
      "source": [],
      "metadata": {
        "id": "jwH5evlTuslj"
      },
      "execution_count": null,
      "outputs": []
    }
  ]
}